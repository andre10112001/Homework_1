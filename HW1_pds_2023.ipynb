{
 "cells": [
  {
   "cell_type": "markdown",
   "metadata": {},
   "source": [
    "# Programming for Data Science 2023\n",
    "## Homework Assigment One\n",
    "\n",
    "Homework activities aim not only at testing your ability to put into practice the concepts you have learned during the Lectures and Labs, but also your ability to explore the Python documentation as a resource. \n",
    "\n",
    "Above all, it is an opportunity for you to challenge yourself and practice. If you are having difficulties with the assignment reach out for support.\n",
    "\n",
    "The Homework Assigment One is divided into **three parts**:\n",
    "1. Explore the core building blocks of programming, focusing in variables, data structures, and their manipulation;\n",
    "2. Explore data loading and analysis using the core elements of Python, without fancy third-party libraries;\n",
    "3. Explore functional programming by defining different functions and operating with the map() and filter().\n",
    "\n",
    "Your submission will be graded according to the following guidelines:\n",
    "1. **Execution** (does your program do what is asked from the exercise?);\n",
    "2. **Objectivity** (are you using the adequate libraries?);\n",
    "3. **Readibility** of your code (that includes comments, naming of variables, supporting text, etc ...).\n",
    "\n",
    "This assignment is to be done in groups of two, groups that are caught cheating will obtain a score of 0 points. \\\n",
    "\n",
    "Oral Examination will be conducted to a subset of groups picked randomly and or that have been flagged during the grading\n",
    "\n",
    "The Homeworking Assignment One is worth **20%** of your final grade.\n",
    "\n",
    "The submission package should correspond to a .zip archive (**.rar files are not accepted**) with the following files:\n",
    "1. Jupyter Notebook with the output of all the cells;\n",
    "2. PDF/HTML of your Jupyter Notebook (on Jupyter go to File -> Download As -> PDF);\n",
    "3. All text or .csv files exported as part of the exercises.\n",
    "\n",
    "#### Important Notes: \n",
    "- **You are ONLY allowed to use any library from the Python STL (see here https://docs.python.org/3/library/).**\n",
    "- **Comment your code properly, which includes naming your variables in a meaningful manner. Badly documented code will be penalized.**</b>\n",
    "- **Submissions in non .zip format will be penalized with 2 points.**\n",
    "\n",
    "Submission is done through the respective Moodle activity.\\\n",
    "Deadline is **20223-09-28**, a Thursday, at 23:59.\\\n",
    "A penality of 1 point per day late will be applied to late deliveries."
   ]
  },
  {
   "cell_type": "markdown",
   "metadata": {},
   "source": [
    "# <span style=\"color:brown\"> Start Here </span> \n",
    "\n",
    "[Please Complete the following form with your details]\n",
    "\n",
    "Student Name - Andre Moreira Lopes<br>\n",
    "Student id - 20230570<br>\n",
    "Contact e-mail - 20230570@novaims.unl.pt<br>\n",
    "\n",
    "\n",
    "Student Name - Duarte Pereira Barbosa<br>\n",
    "Student id - 20230366<br>\n",
    "Contact e-mail - 20230366@novaims.unl.pt<br>"
   ]
  },
  {
   "cell_type": "markdown",
   "metadata": {},
   "source": [
    "# <span style=\"color:brown\"> Part 1 -  Variable Declaration and Manipulation </span> \n",
    "\n",
    "## Exercise I - of Lists and Random numbers\n",
    "\n",
    "**1**: Declare a variable X that stores a list of 100 integers randomly sampled between -100 and 100.<br>\n",
    "Note: You are not allowed to use third party libraries -- such as Numpy, Pandas, or Scipy -- in this exercise."
   ]
  },
  {
   "cell_type": "code",
   "execution_count": 1,
   "metadata": {},
   "outputs": [],
   "source": [
    "# Importing the packages that will be used throughout this file\n",
    "from random import randint, shuffle\n",
    "import math\n",
    "from copy import copy\n",
    "import re\n",
    "import csv"
   ]
  },
  {
   "cell_type": "code",
   "execution_count": 2,
   "metadata": {},
   "outputs": [
    {
     "name": "stdout",
     "output_type": "stream",
     "text": [
      "X: [82, 20, -69, -64, -86, 0, 58, 71, 15, 2, 42, -10, -39, -9, 96, -70, -64, 16, -71, -9, -13, -28, -97, -43, -59, -39, 93, -70, 58, -55, -90, 10, 41, 99, 19, 91, -51, 7, -56, -79, 17, 98, -75, -93, 89, -14, 75, -56, -34, 76, 85, 37, 41, 59, -31, 39, 52, -18, -90, -92, -37, 41, 61, 78, -21, -89, 100, 72, 31, 45, -69, 1, -8, 80, 87, -90, -18, 100, -47, 17, -9, 97, 49, 38, -79, 29, 2, 4, 77, -16, -69, 47, 2, -52, 4, -66, -54, -89, 47, 0]\n"
     ]
    }
   ],
   "source": [
    "# Creating a list of 100 numbers between -100 and 100 randomly generated \n",
    "X = [randint(-100, 100) for i in range(100)]\n",
    "print(\"X:\",X)"
   ]
  },
  {
   "cell_type": "markdown",
   "metadata": {},
   "source": [
    "**2**: How many odd numbers are in the list X?\n"
   ]
  },
  {
   "cell_type": "code",
   "execution_count": 3,
   "metadata": {},
   "outputs": [
    {
     "name": "stdout",
     "output_type": "stream",
     "text": [
      "Total odd numbers: 54\n"
     ]
    }
   ],
   "source": [
    "# Using list comprehension we create a temporary list with all the odd number in the X list\n",
    "odd_count = len([x for x in X if x % 2 != 0]) # The size of the list equals the number of odd numbers in the X list\n",
    "print(f\"Total odd numbers: {odd_count}\")"
   ]
  },
  {
   "cell_type": "markdown",
   "metadata": {},
   "source": [
    "**2.1** Check if there are as many even numbers as there are odd numbers, else discard the list and generate a new one."
   ]
  },
  {
   "cell_type": "code",
   "execution_count": 4,
   "metadata": {},
   "outputs": [
    {
     "name": "stdout",
     "output_type": "stream",
     "text": [
      "X: [27, -173, -123, 110, 195, 13, -108, -40, 27, -6, 130, 103, 168, 8, -151, 79, -109, 174, -178, 186, -106, -60, 80, -2, 90, -87, -116, -152, 143, -4, 84, -19, -42, 45, 54, 113, 173, 123, -200, 139, 121, 121, 40, -179, -101, 6, 134, 25, -30, -135, 132, 109, 69, 5, 89, 182, -28, 161, 166, -1, -167, -145, 41, -123, 96, 150, -167, -162, -166, -182, -63, 146, -35, 126, -79, 184, 31, 31, -81, 142, 178, 145, -186, 114, 99, -59, 43, -91, 47, 30, -69, 30, 32, -22, 45, 172, 152, -187, 72, -198]\n"
     ]
    }
   ],
   "source": [
    "# Checking if there are as many even numbers as there are odd numbers otherwise we create a list with equal number of\n",
    "# odd and even numbers\n",
    "if odd_count != 50:\n",
    "    even_numbers = [randint(-100, 100) * 2 for _ in range(50)] # Creating a list with 50 even numbers \n",
    "    odd_numbers = [randint(-100, 100) * 2 + 1 for _ in range(50)] # Creating a list with 50 odd numbers\n",
    "    X = (even_numbers + odd_numbers)\n",
    "    shuffle(X) # Shuffling the X list to add randomness to the list\n",
    "\n",
    "print(f\"X: {X}\")"
   ]
  },
  {
   "cell_type": "markdown",
   "metadata": {},
   "source": [
    "**2.2** Create a pipeline to automatically perform the tasks above such that you avoid having to run the cells multiple times to reach the desired outcome."
   ]
  },
  {
   "cell_type": "code",
   "execution_count": 5,
   "metadata": {},
   "outputs": [],
   "source": [
    "def pipeline():\n",
    "    # Creating a X list with 50 odd numbers and 50 even numbers randomly generted between -100 and 100\n",
    "    even_numbers = [randint(-100, 100) * 2 for _ in range(50)] # Creating a list with 50 even numbers \n",
    "    odd_numbers = [randint(-100, 100) * 2 + 1 for _ in range(50)] # Creating a list with 50 odd numbers\n",
    "    X = (even_numbers + odd_numbers)\n",
    "    shuffle(X) # Shuffling the X list to add randomness to the list\n",
    "\n",
    "    # Using list comprehension we create a temporary list with all the odd number in the X list\n",
    "    odd_count = len([x for x in X if x % 2 != 0]) # The size of the list equals the number of odd numbers in the X list\n",
    "    return X, odd_count"
   ]
  },
  {
   "cell_type": "code",
   "execution_count": 6,
   "metadata": {},
   "outputs": [
    {
     "name": "stdout",
     "output_type": "stream",
     "text": [
      "Total odd numbers: 50\n",
      "X: [-177, 137, -157, -129, 187, 82, -75, -76, 105, -7, -195, -143, -26, -138, -120, 73, -62, 11, 46, -76, 139, -62, -39, 73, 2, -85, -17, -37, 66, -15, -94, 13, -131, 99, -137, 102, -100, 122, -86, -36, -78, -169, -76, -13, -155, 114, -194, -43, 121, 48, 132, 64, -90, -59, -100, -92, -76, 195, 72, -47, -94, 46, -116, 15, -10, -164, -127, -74, -35, -181, 91, -149, -65, 153, -193, 34, -14, -179, 75, 110, 60, 157, -39, -88, 94, 164, 121, -76, -72, -40, -157, -104, -49, -149, -100, -128, -60, 165, 134, -41]\n"
     ]
    }
   ],
   "source": [
    "X, odd_count = pipeline()\n",
    "print(f\"Total odd numbers: {odd_count}\")\n",
    "print(\"X:\",X)"
   ]
  },
  {
   "cell_type": "markdown",
   "metadata": {},
   "source": [
    "**3**: Print the number of digits that the 5th and 100th element of the list have. <br>\n",
    "*Note: For instance, the number 1 contains one digit, the number 10 contains two digits, the number -2 contains one digit.*"
   ]
  },
  {
   "cell_type": "code",
   "execution_count": 7,
   "metadata": {},
   "outputs": [
    {
     "name": "stdout",
     "output_type": "stream",
     "text": [
      "Number of digits in the 1th element: 3\n",
      "Number of digits in the 2th element: 2\n"
     ]
    }
   ],
   "source": [
    "numbers = [X[4], X[99]] # Numbers to analyze\n",
    "\n",
    "for i, element in enumerate(numbers):\n",
    "    num_digits = len(str(abs(element))) # Counts the number of digits (abs removes the - sign from the digit count)\n",
    "    print(f\"Number of digits in the {i + 1}th element: {num_digits}\")"
   ]
  },
  {
   "cell_type": "markdown",
   "metadata": {},
   "source": [
    "**4**: Is the sum total of all the numbers in the list even or odd?"
   ]
  },
  {
   "cell_type": "code",
   "execution_count": 8,
   "metadata": {},
   "outputs": [
    {
     "name": "stdout",
     "output_type": "stream",
     "text": [
      "The sum is -2494 so the sum is even\n"
     ]
    }
   ],
   "source": [
    "# Calculating the sum of all numbers\n",
    "total_sum = 0\n",
    "for value in X:\n",
    "    total_sum += value\n",
    "\n",
    "# Checking if the sum is odd or even\n",
    "sum_type = \"even\" if total_sum % 2 == 0 else \"odd\"\n",
    "print(f\"The sum is {total_sum} so the sum is {sum_type}\")"
   ]
  },
  {
   "cell_type": "markdown",
   "metadata": {},
   "source": [
    "**5**: What is the average of the list X?"
   ]
  },
  {
   "cell_type": "code",
   "execution_count": 9,
   "metadata": {},
   "outputs": [
    {
     "name": "stdout",
     "output_type": "stream",
     "text": [
      "The average is: -24.94\n"
     ]
    }
   ],
   "source": [
    "# Calculating the average\n",
    "avg = total_sum / len(X)\n",
    "print(f\"The average is: {avg}\")"
   ]
  },
  {
   "cell_type": "markdown",
   "metadata": {},
   "source": [
    "**5.1.** What is the population standard deviation? <br>"
   ]
  },
  {
   "cell_type": "code",
   "execution_count": 10,
   "metadata": {},
   "outputs": [
    {
     "name": "stdout",
     "output_type": "stream",
     "text": [
      "The standard deviation is: 104.11714653226049\n"
     ]
    }
   ],
   "source": [
    "# Calculating the standard deviation\n",
    "squared_sum = 0\n",
    "for value in X:\n",
    "    squared_sum += (value - avg) ** 2\n",
    "sd = (squared_sum / (len(X) - 1)) ** (1 / 2)\n",
    "\n",
    "print(f\"The standard deviation is: {sd}\")"
   ]
  },
  {
   "cell_type": "markdown",
   "metadata": {},
   "source": [
    "**6**: Sort list X in descending order and store the result in variable Xsort. <br>"
   ]
  },
  {
   "cell_type": "code",
   "execution_count": 11,
   "metadata": {},
   "outputs": [
    {
     "name": "stdout",
     "output_type": "stream",
     "text": [
      "Xsort: [195, 187, 165, 164, 157, 153, 139, 137, 134, 132, 122, 121, 121, 114, 110, 105, 102, 99, 94, 91, 82, 75, 73, 73, 72, 66, 64, 60, 48, 46, 46, 34, 15, 13, 11, 2, -7, -10, -13, -14, -15, -17, -26, -35, -36, -37, -39, -39, -40, -41, -43, -47, -49, -59, -60, -62, -62, -65, -72, -74, -75, -76, -76, -76, -76, -76, -78, -85, -86, -88, -90, -92, -94, -94, -100, -100, -100, -104, -116, -120, -127, -128, -129, -131, -137, -138, -143, -149, -149, -155, -157, -157, -164, -169, -177, -179, -181, -193, -194, -195]\n"
     ]
    }
   ],
   "source": [
    "Xsort = sorted(X, reverse=True) # Sorting X in reverse order\n",
    "print(f\"Xsort: {Xsort}\")"
   ]
  },
  {
   "cell_type": "markdown",
   "metadata": {},
   "source": [
    "**6.1** Then replace each value in Xsort with index i as the sum of the values with index i-1 and i. <br> \n",
    "\n",
    "*Note: Per definition consider that Xsort[-1] = 0.*"
   ]
  },
  {
   "cell_type": "code",
   "execution_count": 12,
   "metadata": {},
   "outputs": [
    {
     "name": "stdout",
     "output_type": "stream",
     "text": [
      "Xsort: [390, 382, 352, 329, 321, 310, 292, 276, 271, 266, 254, 243, 242, 235, 224, 215, 207, 201, 193, 185, 173, 157, 148, 146, 145, 138, 130, 124, 108, 94, 92, 80, 49, 28, 24, 13, -5, -17, -23, -27, -29, -32, -43, -61, -71, -73, -76, -78, -79, -81, -84, -90, -96, -108, -119, -122, -124, -127, -137, -146, -149, -151, -152, -152, -152, -152, -154, -163, -171, -174, -178, -182, -186, -188, -194, -200, -200, -204, -220, -236, -247, -255, -257, -260, -268, -275, -281, -292, -298, -304, -312, -314, -321, -333, -346, -356, -360, -374, -387, -389]\n"
     ]
    }
   ],
   "source": [
    "# Making a copy of the contents inside of the Xsort list\n",
    "Xsort_copy = copy(Xsort)\n",
    "\n",
    "for i in range(len(Xsort)):\n",
    "    if i == 0: # Means we are handling with the first element\n",
    "        Xsort[i] = Xsort[i] + Xsort_copy[0]\n",
    "    else:\n",
    "        Xsort[i] = Xsort[i] + Xsort_copy[i - 1] # Xsort_copy is used to acess the elelment X[i- 1] that was overwritten\n",
    "        \n",
    "print(f\"Xsort: {Xsort}\")"
   ]
  },
  {
   "cell_type": "markdown",
   "metadata": {},
   "source": [
    "## Exercise II - we have a gamer in the room\n",
    "\n",
    "**7**: Consider the dictionaries  *purchases* and *clients* that are declared in the cell below. <br>\n",
    "Create a list with the names of the clients who bought more than one videogame. Print the List. <br>"
   ]
  },
  {
   "cell_type": "code",
   "execution_count": 13,
   "metadata": {},
   "outputs": [],
   "source": [
    "purchases = {\n",
    "    \n",
    "    \"1539\":\"Red dead redemption II\",\n",
    "    \"9843\":\"GTA V,FarCry 5, watchdogs II\",\n",
    "    \"8472\":\"Canis Canem Edit\",\n",
    "    \"3874\":\"Watchdogs II,South Park: The Stick of Truth\",\n",
    "    \"5783\":\"AC: The Ezio Collection, watchdogs ii\",\n",
    "    \"9823\":\"For Honor,The Forest,South Park: The Fractured but whole\"\n",
    "    \n",
    "}"
   ]
  },
  {
   "cell_type": "code",
   "execution_count": 14,
   "metadata": {},
   "outputs": [],
   "source": [
    "clients = {\n",
    "    \n",
    "    \"1539\":\"Rick Sanchez\",\n",
    "    \"9843\":\"Morty Smith\",\n",
    "    \"8472\":\"Eve Polastri\",\n",
    "    \"3874\":\"Mildred Ratched\",\n",
    "    \"5783\":\"Alex Vause\",\n",
    "    \"9823\":\"Sheldon Cooper\"\n",
    "    \n",
    "}"
   ]
  },
  {
   "cell_type": "code",
   "execution_count": 15,
   "metadata": {},
   "outputs": [
    {
     "name": "stdout",
     "output_type": "stream",
     "text": [
      "Clients who bought more than 1 videogame: ['Morty Smith', 'Mildred Ratched', 'Alex Vause', 'Sheldon Cooper']\n"
     ]
    }
   ],
   "source": [
    "# Initializing the list that will store the names of the clients who bought more than onde videogame\n",
    "names_list = []\n",
    "\n",
    "for id, name in clients.items():\n",
    "    games_list = purchases[id].split(\",\") # This is a list where each element is the name of a purchased videogame\n",
    "    games_purchased = len(games_list) # Number of videogames purchased\n",
    "    \n",
    "    if games_purchased > 1:\n",
    "        names_list.append(name)\n",
    "        \n",
    "print(f\"Clients who bought more than 1 videogame: {names_list}\")"
   ]
  },
  {
   "cell_type": "markdown",
   "metadata": {},
   "source": [
    "**7.1** What is the name of the client that bought more videogames?\n",
    "\n",
    "*Tip: You will want to check the methods associated with string manipulation. See the link: <br>\n",
    "https://python-reference.readthedocs.io/en/latest/docs/unicode/index.html*"
   ]
  },
  {
   "cell_type": "code",
   "execution_count": 16,
   "metadata": {},
   "outputs": [
    {
     "name": "stdout",
     "output_type": "stream",
     "text": [
      "The clients who bought most videogames (3) were: ['Morty Smith', 'Sheldon Cooper']\n"
     ]
    }
   ],
   "source": [
    "clients_dict = {} # Ex: {\"client_name\": number_of_games_purchased}\n",
    "clients_list = [] # List that will contain the names of the top clients\n",
    "\n",
    "for id, name in clients.items():\n",
    "    games_list = purchases[id].split(\",\")\n",
    "    games_purchased = len(games_list)\n",
    "    clients_dict[name] = games_purchased # Storing the number of games purchased by the client wich name is \"name\"\n",
    "\n",
    "# Number of most videogames bought by one client\n",
    "max_games = max(clients_dict.values())\n",
    "\n",
    "# List of top clients\n",
    "clients_list1 = [client_name for client_name, games_bought in clients_dict.items() if games_bought == max_games]\n",
    "\n",
    "print(f\"The clients who bought most videogames ({max_games}) were: {clients_list1}\")"
   ]
  },
  {
   "cell_type": "markdown",
   "metadata": {},
   "source": [
    "**7.2** What is the name of the most popular videogame?"
   ]
  },
  {
   "cell_type": "code",
   "execution_count": 17,
   "metadata": {},
   "outputs": [
    {
     "name": "stdout",
     "output_type": "stream",
     "text": [
      "red dead redemption ii was bought 1 times\n",
      "gta v was bought 1 times\n",
      "farcry 5 was bought 1 times\n",
      "watchdogs ii was bought 3 times\n",
      "canis canem edit was bought 1 times\n",
      "south park: the stick of truth was bought 1 times\n",
      "ac: the ezio collection was bought 1 times\n",
      "for honor was bought 1 times\n",
      "the forest was bought 1 times\n",
      "south park: the fractured but whole was bought 1 times\n",
      "\n",
      "The most popular game was: watchdogs ii\n"
     ]
    }
   ],
   "source": [
    "videogames_dict = {} # Ex: {\"name_of_the_game\": \"times_it_was_bought\"}\n",
    "\n",
    "for id, purchase in purchases.items():\n",
    "    videogames_names = [name.lower().strip() for name in purchase.split(\",\")] # standardizing the games names\n",
    "        \n",
    "    for game in videogames_names:\n",
    "        if game in videogames_dict.keys(): # Means this game is already in the dictionary\n",
    "            videogames_dict[game] += 1\n",
    "        else:\n",
    "            videogames_dict[game] = 1 # Means this game is not in the dictionary, so we need to add it\n",
    "\n",
    "# Printing the results\n",
    "for name, times_bought in videogames_dict.items():\n",
    "    print(f\"{name} was bought {times_bought} times\")\n",
    "    \n",
    "print()\n",
    "print(f\"The most popular game was: {max(videogames_dict)}\")\n",
    "    "
   ]
  },
  {
   "cell_type": "markdown",
   "metadata": {},
   "source": [
    "# <span style=\"color:brown\"> Part 2 -  Data loading and analysis  </span>\n",
    "\n",
    "## Exercise I - Alice what do you have to say?\n",
    "\n",
    "**8**: Load the Alice text file into a variable called Alice. <br>\n",
    "\n",
    "*Note: Use a relative filepath in relation to the location of your notebook.*"
   ]
  },
  {
   "cell_type": "code",
   "execution_count": 18,
   "metadata": {},
   "outputs": [
    {
     "name": "stdout",
     "output_type": "stream",
     "text": [
      "Alice was beginning to get very tired of sitting by her sister on the bank, and of having nothing to do: once or twice she had peeped into the book her sister was reading, but it had no pictures or conversations in it, <<and what is the use of a book>>. thought Alice <<without pictures or conversation?>>.\n"
     ]
    }
   ],
   "source": [
    "with open(\"alice.txt\", 'r') as file:\n",
    "        Alice = file.read()\n",
    "print(Alice)"
   ]
  },
  {
   "cell_type": "markdown",
   "metadata": {},
   "source": [
    "**9**: Create a list in which each element is a word from the file *Alice*. Store that list in a variable called *wAlice*. <br>\n",
    "\n",
    "*Note: You will need to do some text parsing here. In particular to split the sentences into words. It is also a good practice to normalize words so that words \"Hello\" and \"hello\" become identical, by making all letters lower case. <br>*\n",
    "\n",
    "*Tip: check the following links for a discussion on regular expressions. Also consult the methods available for string manipulation.*\n",
    "\n",
    "https://docs.python.org/3/library/re.html\n",
    "\n",
    "https://stackoverflow.com/questions/1276764/stripping-everything-but-alphanumeric-chars-from-a-string-in-python"
   ]
  },
  {
   "cell_type": "code",
   "execution_count": 19,
   "metadata": {},
   "outputs": [
    {
     "name": "stdout",
     "output_type": "stream",
     "text": [
      "['alice', 'was', 'beginning', 'to', 'get', 'very', 'tired', 'of', 'sitting', 'by', 'her', 'sister', 'on', 'the', 'bank', 'and', 'of', 'having', 'nothing', 'to', 'do', 'once', 'or', 'twice', 'she', 'had', 'peeped', 'into', 'the', 'book', 'her', 'sister', 'was', 'reading', 'but', 'it', 'had', 'no', 'pictures', 'or', 'conversations', 'in', 'it', 'and', 'what', 'is', 'the', 'use', 'of', 'a', 'book', 'thought', 'alice', 'without', 'pictures', 'or', 'conversation']\n"
     ]
    }
   ],
   "source": [
    "wAlice = re.findall(r'\\w+', Alice) # \\w+ searches for all sequences of alphanumeric characters\n",
    "\n",
    "# Converts all the words to lower case\n",
    "for i, word in enumerate(wAlice):\n",
    "    wAlice[i] = word.lower()\n",
    "\n",
    "print(wAlice)"
   ]
  },
  {
   "cell_type": "markdown",
   "metadata": {},
   "source": [
    "##### Using the list *wAlice* answer the following questions:<br>\n",
    "**10**: How many words are in the file Alice.txt? <br>"
   ]
  },
  {
   "cell_type": "code",
   "execution_count": 20,
   "metadata": {},
   "outputs": [
    {
     "name": "stdout",
     "output_type": "stream",
     "text": [
      "There are 57 words in Alice.txt\n"
     ]
    }
   ],
   "source": [
    "word_counter = len(wAlice)\n",
    "print(f\"There are {word_counter} words in Alice.txt\")"
   ]
  },
  {
   "cell_type": "markdown",
   "metadata": {},
   "source": [
    "**11**: What is the longest and smallest word in the text file?\n",
    "\n",
    "*Note: Length in this case is measured in terms of the number of characters.*"
   ]
  },
  {
   "cell_type": "code",
   "execution_count": 21,
   "metadata": {},
   "outputs": [
    {
     "name": "stdout",
     "output_type": "stream",
     "text": [
      "The biggest words are: ['conversations']\n",
      "The smallest word are: ['a']\n"
     ]
    }
   ],
   "source": [
    "biggest = 0\n",
    "smallest = 9e99\n",
    "\n",
    "for word in wAlice:\n",
    "    # Counting the number of characters\n",
    "    word_length = len(word)\n",
    "    if word_length > biggest: # This means we have a bigger word so we have to reset the list\n",
    "        biggest = word_length\n",
    "        biggest_words = [word]\n",
    "    elif word_length == biggest: # If a word is of equal length, we append it to the list.\n",
    "        biggest_words.append(word)\n",
    "    \n",
    "    # Same method but for the smallest word\n",
    "    if word_length < smallest:\n",
    "        smallest = word_length\n",
    "        smallest_words = [word]\n",
    "    elif word_length == smallest:\n",
    "        smallest_words.append(word)\n",
    "    \n",
    "print(f\"The biggest words are: {biggest_words}\")\n",
    "print(f\"The smallest word are: {smallest_words}\")\n"
   ]
  },
  {
   "cell_type": "markdown",
   "metadata": {},
   "source": [
    "**12**: Delete all the repeated words from *wAlice*. "
   ]
  },
  {
   "cell_type": "code",
   "execution_count": 22,
   "metadata": {},
   "outputs": [
    {
     "name": "stdout",
     "output_type": "stream",
     "text": [
      "['of', 'get', 'or', 'in', 'she', 'no', 'nothing', 'bank', 'it', 'was', 'once', 'thought', 'and', 'is', 'by', 'had', 'tired', 'to', 'having', 'pictures', 'her', 'the', 'use', 'very', 'into', 'but', 'what', 'peeped', 'conversations', 'sister', 'without', 'alice', 'book', 'reading', 'on', 'sitting', 'do', 'conversation', 'twice', 'a', 'beginning']\n"
     ]
    }
   ],
   "source": [
    "wAlice = list(set(wAlice))\n",
    "print(wAlice)"
   ]
  },
  {
   "cell_type": "markdown",
   "metadata": {},
   "source": [
    "**12.1**:How many different words does the text contain?"
   ]
  },
  {
   "cell_type": "code",
   "execution_count": 23,
   "metadata": {},
   "outputs": [
    {
     "name": "stdout",
     "output_type": "stream",
     "text": [
      "The text contains 41 different words\n"
     ]
    }
   ],
   "source": [
    "print(f\"The text contains {len(wAlice)} different words\")"
   ]
  },
  {
   "cell_type": "markdown",
   "metadata": {},
   "source": [
    "## Exercise II - of Countries I Love\n",
    "\n",
    "Consider the list countries in the cell below. <br>\n",
    "It consists of a list of the 3-digit ISO codes of a set of countries of interest."
   ]
  },
  {
   "cell_type": "code",
   "execution_count": 24,
   "metadata": {},
   "outputs": [],
   "source": [
    "countries = [\n",
    "\n",
    "('PRT','Portugal','Europe'),\n",
    "('ISL','Israel','Asia'),\n",
    "('COL','Colombia','South America'),\n",
    "('NEV','Nevada','North America'),\n",
    "('JPN','Japan','Asia'),\n",
    "('RUS','Russia','well... which part?'),\n",
    "('DEN','Denmark','Europe'),\n",
    "('NOR','Norway','Europe')\n",
    "    \n",
    "]"
   ]
  },
  {
   "cell_type": "markdown",
   "metadata": {},
   "source": [
    "**Now consider the file *cdata.csv* that you should download.** <br>\n",
    "\n",
    "The file contains several information about countries, and is organized as follows:\n",
    "1. Column 1 is the 3-digit **ISO Code**\n",
    "2. Column 2 is the **Full Name** of the country\n",
    "3. Column 3 is the **Continent** of the country\n",
    "4. Column 4 is the **Population Size** in 2010\n",
    "5. Column 5 is the **GDP per capita** in 2010"
   ]
  },
  {
   "cell_type": "markdown",
   "metadata": {},
   "source": [
    "**13**: Using the Library CSV from Python STL, load the file *cdata.csv* into an object called *raw*. "
   ]
  },
  {
   "cell_type": "code",
   "execution_count": 25,
   "metadata": {},
   "outputs": [
    {
     "name": "stdout",
     "output_type": "stream",
     "text": [
      "[{'iso': 'ago', 'countryname': 'Angola', 'continent': 'Africa', 'population(mil)': '23.369131088256836', 'gdp': '5988.534997149481'}, {'iso': 'bdi', 'countryname': 'Burundi', 'continent': 'Africa', 'population(mil)': '8.766929626464844', 'gdp': '731.4232803265862'}, {'iso': 'ben', 'countryname': 'Benin', 'continent': 'Africa', 'population(mil)': '9.199258804321289', 'gdp': '1919.9969479963038'}, {'iso': 'bfa', 'countryname': 'Burkina Faso', 'continent': 'Africa', 'population(mil)': '15.605216979980469', 'gdp': '1327.2165314775982'}, {'iso': 'bwa', 'countryname': 'Botswana', 'continent': 'Africa', 'population(mil)': '2.0148661136627197', 'gdp': '12256.14159052444'}, {'iso': 'caf', 'countryname': 'Central African Republic', 'continent': 'Africa', 'population(mil)': '4.4485249519348145', 'gdp': '865.4421867263901'}, {'iso': 'cmr', 'countryname': 'Cameroon', 'continent': 'Africa', 'population(mil)': '19.970495223999023', 'gdp': '2684.972890247272'}, {'iso': 'cod', 'countryname': 'Democratic Republic of the Congo', 'continent': 'Africa', 'population(mil)': '64.52326202392578', 'gdp': '634.9713963013496'}, {'iso': 'cog', 'countryname': 'Republic of the Congo', 'continent': 'Africa', 'population(mil)': '4.386693000793457', 'gdp': '4979.990496069269'}, {'iso': 'com', 'countryname': 'Comoros', 'continent': 'Africa', 'population(mil)': '0.6896920204162598', 'gdp': '2292.997969425929'}, {'iso': 'cpv', 'countryname': 'Cape Verde', 'continent': 'Africa', 'population(mil)': '0.5023840069770813', 'gdp': '5644.821253339075'}, {'iso': 'dji', 'countryname': 'Djibouti', 'continent': 'Africa', 'population(mil)': '0.8511459827423096', 'gdp': '2124.4420625972525'}, {'iso': 'dza', 'countryname': 'Algeria', 'continent': 'Africa', 'population(mil)': '36.117637634277344', 'gdp': '12590.224223813591'}, {'iso': 'egy', 'countryname': 'Egypt', 'continent': 'Africa', 'population(mil)': '84.10760498046875', 'gdp': '9148.839753298033'}, {'iso': 'eth', 'countryname': 'Ethiopia', 'continent': 'Africa', 'population(mil)': '87.70266723632812', 'gdp': '1100.1831875876223'}, {'iso': 'gab', 'countryname': 'Gabon', 'continent': 'Africa', 'population(mil)': '1.6402100324630737', 'gdp': '11961.168226448879'}, {'iso': 'gha', 'countryname': 'Ghana', 'continent': 'Africa', 'population(mil)': '24.512104034423828', 'gdp': '3931.2918319728856'}, {'iso': 'gin', 'countryname': 'Guinea', 'continent': 'Africa', 'population(mil)': '10.794170379638672', 'gdp': '1742.7346742167783'}, {'iso': 'gmb', 'countryname': 'Gambia', 'continent': 'Africa', 'population(mil)': '1.692149043083191', 'gdp': '2681.8586168502143'}, {'iso': 'gnb', 'countryname': 'Guinea-Bissau', 'continent': 'Africa', 'population(mil)': '1.5558799505233765', 'gdp': '1387.2497310879905'}, {'iso': 'gnq', 'countryname': 'Equatorial Guinea', 'continent': 'Africa', 'population(mil)': '0.9511039853096008', 'gdp': '31416.887137501908'}, {'iso': 'ken', 'countryname': 'Kenya', 'continent': 'Africa', 'population(mil)': '41.35015106201172', 'gdp': '2484.0349094725366'}, {'iso': 'lbr', 'countryname': 'Liberia', 'continent': 'Africa', 'population(mil)': '3.948124885559082', 'gdp': '786.6702306741524'}, {'iso': 'lso', 'countryname': 'Lesotho', 'continent': 'Africa', 'population(mil)': '2.040550947189331', 'gdp': '2432.7976546880823'}, {'iso': 'mar', 'countryname': 'Morocco', 'continent': 'Africa', 'population(mil)': '32.409637451171875', 'gdp': '6421.937677907418'}, {'iso': 'mdg', 'countryname': 'Madagascar', 'continent': 'Africa', 'population(mil)': '21.151639938354492', 'gdp': '1459.9156124535612'}, {'iso': 'mli', 'countryname': 'Mali', 'continent': 'Africa', 'population(mil)': '15.075084686279297', 'gdp': '1873.2809618195865'}, {'iso': 'moz', 'countryname': 'Mozambique', 'continent': 'Africa', 'population(mil)': '24.221405029296875', 'gdp': '969.2307622526259'}, {'iso': 'mrt', 'countryname': 'Mauritania', 'continent': 'Africa', 'population(mil)': '3.6095430850982666', 'gdp': '3082.647028528842'}, {'iso': 'mus', 'countryname': 'Mauritius', 'continent': 'Africa', 'population(mil)': '1.2479549646377563', 'gdp': '15178.325920597827'}, {'iso': 'mwi', 'countryname': 'Malawi', 'continent': 'Africa', 'population(mil)': '15.167095184326172', 'gdp': '972.0456815116237'}, {'iso': 'nam', 'countryname': 'Namibia', 'continent': 'Africa', 'population(mil)': '2.1731700897216797', 'gdp': '7689.171239820006'}, {'iso': 'ner', 'countryname': 'Niger', 'continent': 'Africa', 'population(mil)': '16.42557716369629', 'gdp': '845.8693682212395'}, {'iso': 'nga', 'countryname': 'Nigeria', 'continent': 'Africa', 'population(mil)': '158.57826232910156', 'gdp': '5186.304307542348'}, {'iso': 'rwa', 'countryname': 'Rwanda', 'continent': 'Africa', 'population(mil)': '10.246842384338379', 'gdp': '1379.6993252327009'}, {'iso': 'sdn', 'countryname': 'Sudan', 'continent': 'Africa', 'population(mil)': '34.385963439941406', 'gdp': '3608.7856176907358'}, {'iso': 'sen', 'countryname': 'Senegal', 'continent': 'Africa', 'population(mil)': '12.916229248046875', 'gdp': '2741.121456198507'}, {'iso': 'sle', 'countryname': 'Sierra Leone', 'continent': 'Africa', 'population(mil)': '6.4587202072143555', 'gdp': '1161.8796942144647'}, {'iso': 'swz', 'countryname': 'Swaziland', 'continent': 'Africa', 'population(mil)': '1.2028429508209229', 'gdp': '7042.524359035093'}, {'iso': 'syc', 'countryname': 'Seychelles', 'continent': 'Africa', 'population(mil)': '0.0914049968123436', 'gdp': '17960.353075613308'}, {'iso': 'tcd', 'countryname': 'Chad', 'continent': 'Africa', 'population(mil)': '11.887202262878418', 'gdp': '1880.3748762799714'}, {'iso': 'tgo', 'countryname': 'Togo', 'continent': 'Africa', 'population(mil)': '6.5029520988464355', 'gdp': '1222.8150529133295'}, {'iso': 'tun', 'countryname': 'Tunisia', 'continent': 'Africa', 'population(mil)': '10.639930725097656', 'gdp': '10647.834980284626'}, {'iso': 'tza', 'countryname': 'Tanzania', 'continent': 'Africa', 'population(mil)': '44.82893753051758', 'gdp': '1979.1718644815185'}, {'iso': 'uga', 'countryname': 'Uganda', 'continent': 'Africa', 'population(mil)': '33.91513442993164', 'gdp': '1723.5943355766267'}, {'iso': 'zaf', 'countryname': 'South Africa', 'continent': 'Africa', 'population(mil)': '51.58466339111328', 'gdp': '11388.640515995063'}, {'iso': 'zmb', 'countryname': 'Zambia', 'continent': 'Africa', 'population(mil)': '13.850032806396484', 'gdp': '2870.8872656342314'}, {'iso': 'zwe', 'countryname': 'Zimbabwe', 'continent': 'Africa', 'population(mil)': '14.08631706237793', 'gdp': '1479.0305839163732'}, {'iso': 'are', 'countryname': 'United Arab Emirates', 'continent': 'Asia', 'population(mil)': '8.270684242248535', 'gdp': '59707.412565389604'}, {'iso': 'arm', 'countryname': 'Armenia', 'continent': 'Asia', 'population(mil)': '2.8773109912872314', 'gdp': '8222.945234202914'}, {'iso': 'aze', 'countryname': 'Azerbaijan', 'continent': 'Asia', 'population(mil)': '9.03245735168457', 'gdp': '12947.102198682365'}, {'iso': 'bgd', 'countryname': 'Bangladesh', 'continent': 'Asia', 'population(mil)': '152.14910888671875', 'gdp': '2411.1020691099325'}, {'iso': 'bhr', 'countryname': 'Bahrain', 'continent': 'Asia', 'population(mil)': '1.2408620119094849', 'gdp': '37045.81310919623'}, {'iso': 'brn', 'countryname': 'Brunei', 'continent': 'Asia', 'population(mil)': '0.3886620104312897', 'gdp': '67320.89957245934'}, {'iso': 'btn', 'countryname': 'Bhutan', 'continent': 'Asia', 'population(mil)': '0.7276409864425659', 'gdp': '7235.18974818538'}, {'iso': 'chn', 'countryname': 'China', 'continent': 'Asia', 'population(mil)': '1359.755126953125', 'gdp': '9337.290772677254'}, {'iso': 'cyp', 'countryname': 'Cyprus', 'continent': 'Asia', 'population(mil)': '0.829446017742157', 'gdp': '28046.373877741087'}, {'iso': 'geo', 'countryname': 'Georgia', 'continent': 'Asia', 'population(mil)': '4.231660842895508', 'gdp': '7966.602756952667'}, {'iso': 'hkg', 'countryname': 'Hong Kong', 'continent': 'Asia', 'population(mil)': '7.02522087097168', 'gdp': '41687.946418899235'}, {'iso': 'ind', 'countryname': 'India', 'continent': 'Asia', 'population(mil)': '1230.980712890625', 'gdp': '4357.0597360582315'}, {'iso': 'irn', 'countryname': 'Iran', 'continent': 'Asia', 'population(mil)': '74.56751251220703', 'gdp': '17328.457882894658'}, {'iso': 'irq', 'countryname': 'Iraq', 'continent': 'Asia', 'population(mil)': '30.7627010345459', 'gdp': '9344.543768350652'}, {'iso': 'isr', 'countryname': 'Israel', 'continent': 'Asia', 'population(mil)': '7.42595911026001', 'gdp': '28638.9037385305'}, {'iso': 'jor', 'countryname': 'Jordan', 'continent': 'Asia', 'population(mil)': '7.182390213012695', 'gdp': '9351.387283068141'}, {'iso': 'jpn', 'countryname': 'Japan', 'continent': 'Asia', 'population(mil)': '128.5518798828125', 'gdp': '36595.63364058582'}, {'iso': 'kaz', 'countryname': 'Kazakhstan', 'continent': 'Asia', 'population(mil)': '16.398975372314453', 'gdp': '17908.83993251286'}, {'iso': 'kgz', 'countryname': 'Kyrgyzstan', 'continent': 'Asia', 'population(mil)': '5.422337055206299', 'gdp': '3382.4639059259293'}, {'iso': 'khm', 'countryname': 'Cambodia', 'continent': 'Asia', 'population(mil)': '14.30873966217041', 'gdp': '2330.127207632253'}, {'iso': 'kor', 'countryname': 'South Korea', 'continent': 'Asia', 'population(mil)': '49.5528564453125', 'gdp': '31589.705161145695'}, {'iso': 'kwt', 'countryname': 'Kuwait', 'continent': 'Asia', 'population(mil)': '2.9980831146240234', 'gdp': '67029.51680017101'}, {'iso': 'lao', 'countryname': 'Laos', 'continent': 'Asia', 'population(mil)': '6.246273994445801', 'gdp': '4316.969858587265'}, {'iso': 'lbn', 'countryname': 'Lebanon', 'continent': 'Asia', 'population(mil)': '4.337141036987305', 'gdp': '18025.24893894264'}, {'iso': 'lka', 'countryname': 'Sri Lanka', 'continent': 'Asia', 'population(mil)': '20.198352813720703', 'gdp': '8390.429701766443'}, {'iso': 'mac', 'countryname': 'Macau', 'continent': 'Asia', 'population(mil)': '0.536969006061554', 'gdp': '91982.39517540816'}, {'iso': 'mdv', 'countryname': 'Maldives', 'continent': 'Asia', 'population(mil)': '0.36451101303100586', 'gdp': '12140.803390739566'}, {'iso': 'mmr', 'countryname': 'Burma', 'continent': 'Asia', 'population(mil)': '50.1558952331543', 'gdp': '3422.241340266976'}, {'iso': 'mng', 'countryname': 'Mongolia', 'continent': 'Asia', 'population(mil)': '2.7126500606536865', 'gdp': '7670.714034382584'}, {'iso': 'mys', 'countryname': 'Malaysia', 'continent': 'Asia', 'population(mil)': '28.112289428710938', 'gdp': '17913.164410782432'}, {'iso': 'npl', 'countryname': 'Nepal', 'continent': 'Asia', 'population(mil)': '27.023136138916016', 'gdp': '1996.1961554516242'}, {'iso': 'omn', 'countryname': 'Oman', 'continent': 'Asia', 'population(mil)': '3.0414600372314453', 'gdp': '40472.674942509126'}, {'iso': 'pak', 'countryname': 'Pakistan', 'continent': 'Asia', 'population(mil)': '170.5601806640625', 'gdp': '4171.416562353057'}, {'iso': 'phl', 'countryname': 'Philippines', 'continent': 'Asia', 'population(mil)': '93.72662353515625', 'gdp': '5391.233965240031'}, {'iso': 'qat', 'countryname': 'Qatar', 'continent': 'Asia', 'population(mil)': '1.7796759605407715', 'gdp': '123128.40152283433'}, {'iso': 'sau', 'countryname': 'Saudi Arabia', 'continent': 'Asia', 'population(mil)': '27.425676345825195', 'gdp': '42331.65885721999'}, {'iso': 'sgp', 'countryname': 'Singapore', 'continent': 'Asia', 'population(mil)': '5.074252128601074', 'gdp': '58618.43503468222'}, {'iso': 'syr', 'countryname': 'Syria', 'continent': 'Asia', 'population(mil)': '21.01883316040039', 'gdp': '5700.329438992399'}, {'iso': 'tha', 'countryname': 'Thailand', 'continent': 'Asia', 'population(mil)': '67.20880889892578', 'gdp': '12496.244186726299'}, {'iso': 'tjk', 'countryname': 'Tajikistan', 'continent': 'Asia', 'population(mil)': '7.641630172729492', 'gdp': '2784.5145587763627'}, {'iso': 'tkm', 'countryname': 'Turkmenistan', 'continent': 'Asia', 'population(mil)': '5.087210178375244', 'gdp': '16061.429412691556'}, {'iso': 'tur', 'countryname': 'Turkey', 'continent': 'Asia', 'population(mil)': '72.32691192626953', 'gdp': '17930.678781392427'}, {'iso': 'twn', 'countryname': 'Taiwan', 'continent': 'Asia', 'population(mil)': '23.140947341918945', 'gdp': '37188.89452901009'}, {'iso': 'uzb', 'countryname': 'Uzbekistan', 'continent': 'Asia', 'population(mil)': '28.606294631958008', 'gdp': '6574.51672506692'}, {'iso': 'vnm', 'countryname': 'Vietnam', 'continent': 'Asia', 'population(mil)': '88.4725112915039', 'gdp': '4428.42140209062'}, {'iso': 'yem', 'countryname': 'Yemen', 'continent': 'Asia', 'population(mil)': '23.606779098510742', 'gdp': '4553.557258443674'}, {'iso': 'alb', 'countryname': 'Albania', 'continent': 'Europe', 'population(mil)': '2.9405250549316406', 'gdp': '9544.73991912729'}, {'iso': 'aut', 'countryname': 'Austria', 'continent': 'Europe', 'population(mil)': '8.40994930267334', 'gdp': '40489.80635849457'}, {'iso': 'bel', 'countryname': 'Belgium', 'continent': 'Europe', 'population(mil)': '10.938738822937012', 'gdp': '38177.94724875522'}, {'iso': 'bgr', 'countryname': 'Bulgaria', 'continent': 'Europe', 'population(mil)': '7.404590129852295', 'gdp': '14906.784964031736'}, {'iso': 'bih', 'countryname': 'Bosnia and Herzegovina', 'continent': 'Europe', 'population(mil)': '3.7220840454101562', 'gdp': '9049.364732987471'}, {'iso': 'blr', 'countryname': 'Belarus', 'continent': 'Europe', 'population(mil)': '9.473071098327637', 'gdp': '16457.02937904922'}, {'iso': 'che', 'countryname': 'Switzerland', 'continent': 'Europe', 'population(mil)': '7.831971168518066', 'gdp': '55688.020214268225'}, {'iso': 'cze', 'countryname': 'Czech Republic', 'continent': 'Europe', 'population(mil)': '10.536286354064941', 'gdp': '26129.56935189834'}, {'iso': 'deu', 'countryname': 'Germany', 'continent': 'Europe', 'population(mil)': '80.89478302001953', 'gdp': '40627.23054942445'}, {'iso': 'dnk', 'countryname': 'Denmark', 'continent': 'Europe', 'population(mil)': '5.554843902587891', 'gdp': '43416.22338615916'}, {'iso': 'esp', 'countryname': 'Spain', 'continent': 'Europe', 'population(mil)': '46.788631439208984', 'gdp': '31610.980157042286'}, {'iso': 'est', 'countryname': 'Estonia', 'continent': 'Europe', 'population(mil)': '1.3321019411087036', 'gdp': '20265.572596704937'}, {'iso': 'fin', 'countryname': 'Finland', 'continent': 'Europe', 'population(mil)': '5.365781784057617', 'gdp': '38394.06158150017'}, {'iso': 'fra', 'countryname': 'France', 'continent': 'Europe', 'population(mil)': '65.14578247070312', 'gdp': '35786.16161450548'}, {'iso': 'gbr', 'countryname': 'United Kingdom', 'continent': 'Europe', 'population(mil)': '63.30684280395508', 'gdp': '34810.28120173958'}, {'iso': 'grc', 'countryname': 'Greece', 'continent': 'Europe', 'population(mil)': '11.446004867553711', 'gdp': '25815.80076797162'}, {'iso': 'hrv', 'countryname': 'Croatia', 'continent': 'Europe', 'population(mil)': '4.328153133392334', 'gdp': '19305.008088868373'}, {'iso': 'hun', 'countryname': 'Hungary', 'continent': 'Europe', 'population(mil)': '9.927840232849121', 'gdp': '20477.79856764035'}, {'iso': 'irl', 'countryname': 'Ireland', 'continent': 'Europe', 'population(mil)': '4.626927852630615', 'gdp': '47823.50815113634'}, {'iso': 'isl', 'countryname': 'Iceland', 'continent': 'Europe', 'population(mil)': '0.3203279972076416', 'gdp': '37729.01607603124'}, {'iso': 'ita', 'countryname': 'Italy', 'continent': 'Europe', 'population(mil)': '59.72980880737305', 'gdp': '34727.67268834705'}, {'iso': 'ltu', 'countryname': 'Lithuania', 'continent': 'Europe', 'population(mil)': '3.123802900314331', 'gdp': '18475.371145517096'}, {'iso': 'lux', 'countryname': 'Luxembourg', 'continent': 'Europe', 'population(mil)': '0.5078889727592468', 'gdp': '57882.81020537233'}, {'iso': 'lva', 'countryname': 'Latvia', 'continent': 'Europe', 'population(mil)': '2.1188480854034424', 'gdp': '16943.688322829523'}, {'iso': 'mda', 'countryname': 'Moldova', 'continent': 'Europe', 'population(mil)': '4.0844807624816895', 'gdp': '4173.634753274572'}, {'iso': 'mkd', 'countryname': 'Macedonia', 'continent': 'Europe', 'population(mil)': '2.0707390308380127', 'gdp': '11265.643175619889'}, {'iso': 'mlt', 'countryname': 'Malta', 'continent': 'Europe', 'population(mil)': '0.41611000895500183', 'gdp': '22983.44992639125'}, {'iso': 'mne', 'countryname': 'Montenegro', 'continent': 'Europe', 'population(mil)': '0.6242849826812744', 'gdp': '14960.94855221103'}, {'iso': 'nld', 'countryname': 'Netherlands', 'continent': 'Europe', 'population(mil)': '16.68291664123535', 'gdp': '44004.146024770846'}, {'iso': 'nor', 'countryname': 'Norway', 'continent': 'Europe', 'population(mil)': '4.885878086090088', 'gdp': '73262.68174170727'}, {'iso': 'pol', 'countryname': 'Poland', 'continent': 'Europe', 'population(mil)': '38.323402404785156', 'gdp': '21006.027309294514'}, {'iso': 'prt', 'countryname': 'Portugal', 'continent': 'Europe', 'population(mil)': '10.652320861816406', 'gdp': '25788.2739652247'}, {'iso': 'rou', 'countryname': 'Romania', 'continent': 'Europe', 'population(mil)': '20.44034767150879', 'gdp': '16775.609043478133'}, {'iso': 'rus', 'countryname': 'Russia', 'continent': 'Asia', 'population(mil)': '143.15386962890625', 'gdp': '21754.067899615977'}, {'iso': 'srb', 'countryname': 'Serbia', 'continent': 'Europe', 'population(mil)': '7.291436195373535', 'gdp': '12453.482551916944'}, {'iso': 'svk', 'countryname': 'Slovakia', 'continent': 'Europe', 'population(mil)': '5.404294013977051', 'gdp': '23061.12099058148'}, {'iso': 'svn', 'countryname': 'Slovenia', 'continent': 'Europe', 'population(mil)': '2.045167922973633', 'gdp': '25831.33128718208'}, {'iso': 'swe', 'countryname': 'Sweden', 'continent': 'Europe', 'population(mil)': '9.390168190002441', 'gdp': '40421.906436576974'}, {'iso': 'ukr', 'countryname': 'Ukraine', 'continent': 'Europe', 'population(mil)': '45.79249954223633', 'gdp': '8713.259627419637'}, {'iso': 'abw', 'countryname': 'Aruba', 'continent': 'NorthAmerica', 'population(mil)': '0.10166899859905243', 'gdp': '37059.34143869512'}, {'iso': 'aia', 'countryname': 'Anguilla', 'continent': 'NorthAmerica', 'population(mil)': '0.013768999837338924', 'gdp': '21098.057152999143'}, {'iso': 'atg', 'countryname': 'Antigua and Barbuda', 'continent': 'NorthAmerica', 'population(mil)': '0.09466099739074707', 'gdp': '17162.16102781353'}, {'iso': 'bhs', 'countryname': 'Bahamas', 'continent': 'NorthAmerica', 'population(mil)': '0.36083200573921204', 'gdp': '29504.581346144332'}, {'iso': 'blz', 'countryname': 'Belize', 'continent': 'NorthAmerica', 'population(mil)': '0.3216080069541931', 'gdp': '7145.952547655193'}, {'iso': 'bmu', 'countryname': 'Bermuda', 'continent': 'NorthAmerica', 'population(mil)': '0.06395599991083145', 'gdp': '51447.147481910884'}, {'iso': 'brb', 'countryname': 'Barbados', 'continent': 'NorthAmerica', 'population(mil)': '0.27956900000572205', 'gdp': '13995.612896540895'}, {'iso': 'can', 'countryname': 'Canada', 'continent': 'NorthAmerica', 'population(mil)': '34.16866683959961', 'gdp': '40269.03526728651'}, {'iso': 'cri', 'countryname': 'Costa Rica', 'continent': 'NorthAmerica', 'population(mil)': '4.5452799797058105', 'gdp': '12106.99191566891'}, {'iso': 'cuw', 'countryname': 'CuraÃ§ao', 'continent': 'NorthAmerica', 'population(mil)': '0.14760799705982208', 'gdp': '24337.816177887613'}, {'iso': 'cym', 'countryname': 'Cayman Islands', 'continent': 'NorthAmerica', 'population(mil)': '0.05550700053572655', 'gdp': '36670.678481483985'}, {'iso': 'dma', 'countryname': 'Dominica', 'continent': 'NorthAmerica', 'population(mil)': '0.07143999636173248', 'gdp': '9101.993729581038'}, {'iso': 'dom', 'countryname': 'Dominican Republic', 'continent': 'NorthAmerica', 'population(mil)': '9.897985458374023', 'gdp': '11500.13134401987'}, {'iso': 'grd', 'countryname': 'Grenada', 'continent': 'NorthAmerica', 'population(mil)': '0.1046769991517067', 'gdp': '9791.291133092265'}, {'iso': 'gtm', 'countryname': 'Guatemala', 'continent': 'NorthAmerica', 'population(mil)': '14.630416870117188', 'gdp': '6359.262684615136'}, {'iso': 'hnd', 'countryname': 'Honduras', 'continent': 'NorthAmerica', 'population(mil)': '8.194778442382812', 'gdp': '3789.9102248753848'}, {'iso': 'hti', 'countryname': 'Haiti', 'continent': 'NorthAmerica', 'population(mil)': '9.999616622924805', 'gdp': '1650.2697128700804'}, {'iso': 'jam', 'countryname': 'Jamaica', 'continent': 'NorthAmerica', 'population(mil)': '2.8172099590301514', 'gdp': '6675.176956450172'}, {'iso': 'kna', 'countryname': 'Saint Kitts and Nevis', 'continent': 'NorthAmerica', 'population(mil)': '0.05144499987363815', 'gdp': '17837.349758162076'}, {'iso': 'lca', 'countryname': 'Saint Lucia', 'continent': 'NorthAmerica', 'population(mil)': '0.17258000373840332', 'gdp': '9178.266990673521'}, {'iso': 'mex', 'countryname': 'Mexico', 'continent': 'NorthAmerica', 'population(mil)': '117.31893920898438', 'gdp': '14507.011923865603'}, {'iso': 'msr', 'countryname': 'Montserrat', 'continent': 'NorthAmerica', 'population(mil)': '0.00494399992749095', 'gdp': '15385.002991478228'}, {'iso': 'nic', 'countryname': 'Nicaragua', 'continent': 'NorthAmerica', 'population(mil)': '5.737722873687744', 'gdp': '3992.7619078961748'}, {'iso': 'pan', 'countryname': 'Panama', 'continent': 'NorthAmerica', 'population(mil)': '3.6432220935821533', 'gdp': '15055.237591848218'}, {'iso': 'slv', 'countryname': 'El Salvador', 'continent': 'NorthAmerica', 'population(mil)': '6.164626121520996', 'gdp': '6096.958357099287'}, {'iso': 'tca', 'countryname': 'Turks and Caicos Islands', 'continent': 'NorthAmerica', 'population(mil)': '0.030993999913334846', 'gdp': '7230.966074605446'}, {'iso': 'tto', 'countryname': 'Trinidad and Tobago', 'continent': 'NorthAmerica', 'population(mil)': '1.3280999660491943', 'gdp': '27510.236190041924'}, {'iso': 'usa', 'countryname': 'United States', 'continent': 'NorthAmerica', 'population(mil)': '308.6413879394531', 'gdp': '49500.62628346238'}, {'iso': 'vct', 'countryname': 'Saint Vincent and the Grenadines', 'continent': 'NorthAmerica', 'population(mil)': '0.10931500047445297', 'gdp': '8095.21923068351'}, {'iso': 'vgb', 'countryname': 'British Virgin Islands', 'continent': 'NorthAmerica', 'population(mil)': '0.027224000543355942', 'gdp': '21183.279165646647'}, {'iso': 'aus', 'countryname': 'Australia', 'continent': 'Oceania', 'population(mil)': '22.12006378173828', 'gdp': '44854.90004866657'}, {'iso': 'fji', 'countryname': 'Fiji', 'continent': 'Oceania', 'population(mil)': '0.8599500060081482', 'gdp': '6902.0687720944225'}, {'iso': 'nzl', 'countryname': 'New Zealand', 'continent': 'Oceania', 'population(mil)': '4.370061874389648', 'gdp': '30867.05437525178'}, {'iso': 'arg', 'countryname': 'Argentina', 'continent': 'SouthAmerica', 'population(mil)': '41.2238883972168', 'gdp': '15841.658208158999'}, {'iso': 'bol', 'countryname': 'Bolivia', 'continent': 'SouthAmerica', 'population(mil)': '9.918242454528809', 'gdp': '4806.608983377068'}, {'iso': 'bra', 'countryname': 'Brazil', 'continent': 'SouthAmerica', 'population(mil)': '196.7962646484375', 'gdp': '13541.462561602328'}, {'iso': 'chl', 'countryname': 'Chile', 'continent': 'SouthAmerica', 'population(mil)': '16.99335479736328', 'gdp': '18092.94007371081'}]"
     ]
    },
    {
     "name": "stdout",
     "output_type": "stream",
     "text": [
      "\n"
     ]
    }
   ],
   "source": [
    "# Initializing the variable\n",
    "raw = []\n",
    "with open('cdata.csv', newline='') as csvfile:\n",
    "    csv_reader = csv.DictReader(csvfile)\n",
    "    for row in csv_reader:\n",
    "        raw.append(row)\n",
    "print(raw)"
   ]
  },
  {
   "cell_type": "markdown",
   "metadata": {},
   "source": [
    "**13.1**: Create a dictionary called *cData* in which the key corresponds to the 3-digit ISO Code and the value is a tuple with the information contained in the 2nd to the 5th of column of the cdata file."
   ]
  },
  {
   "cell_type": "code",
   "execution_count": 26,
   "metadata": {},
   "outputs": [
    {
     "name": "stdout",
     "output_type": "stream",
     "text": [
      "{'ago': ('Angola', 'Africa', '23.369131088256836', '5988.534997149481'), 'bdi': ('Burundi', 'Africa', '8.766929626464844', '731.4232803265862'), 'ben': ('Benin', 'Africa', '9.199258804321289', '1919.9969479963038'), 'bfa': ('Burkina Faso', 'Africa', '15.605216979980469', '1327.2165314775982'), 'bwa': ('Botswana', 'Africa', '2.0148661136627197', '12256.14159052444'), 'caf': ('Central African Republic', 'Africa', '4.4485249519348145', '865.4421867263901'), 'cmr': ('Cameroon', 'Africa', '19.970495223999023', '2684.972890247272'), 'cod': ('Democratic Republic of the Congo', 'Africa', '64.52326202392578', '634.9713963013496'), 'cog': ('Republic of the Congo', 'Africa', '4.386693000793457', '4979.990496069269'), 'com': ('Comoros', 'Africa', '0.6896920204162598', '2292.997969425929'), 'cpv': ('Cape Verde', 'Africa', '0.5023840069770813', '5644.821253339075'), 'dji': ('Djibouti', 'Africa', '0.8511459827423096', '2124.4420625972525'), 'dza': ('Algeria', 'Africa', '36.117637634277344', '12590.224223813591'), 'egy': ('Egypt', 'Africa', '84.10760498046875', '9148.839753298033'), 'eth': ('Ethiopia', 'Africa', '87.70266723632812', '1100.1831875876223'), 'gab': ('Gabon', 'Africa', '1.6402100324630737', '11961.168226448879'), 'gha': ('Ghana', 'Africa', '24.512104034423828', '3931.2918319728856'), 'gin': ('Guinea', 'Africa', '10.794170379638672', '1742.7346742167783'), 'gmb': ('Gambia', 'Africa', '1.692149043083191', '2681.8586168502143'), 'gnb': ('Guinea-Bissau', 'Africa', '1.5558799505233765', '1387.2497310879905'), 'gnq': ('Equatorial Guinea', 'Africa', '0.9511039853096008', '31416.887137501908'), 'ken': ('Kenya', 'Africa', '41.35015106201172', '2484.0349094725366'), 'lbr': ('Liberia', 'Africa', '3.948124885559082', '786.6702306741524'), 'lso': ('Lesotho', 'Africa', '2.040550947189331', '2432.7976546880823'), 'mar': ('Morocco', 'Africa', '32.409637451171875', '6421.937677907418'), 'mdg': ('Madagascar', 'Africa', '21.151639938354492', '1459.9156124535612'), 'mli': ('Mali', 'Africa', '15.075084686279297', '1873.2809618195865'), 'moz': ('Mozambique', 'Africa', '24.221405029296875', '969.2307622526259'), 'mrt': ('Mauritania', 'Africa', '3.6095430850982666', '3082.647028528842'), 'mus': ('Mauritius', 'Africa', '1.2479549646377563', '15178.325920597827'), 'mwi': ('Malawi', 'Africa', '15.167095184326172', '972.0456815116237'), 'nam': ('Namibia', 'Africa', '2.1731700897216797', '7689.171239820006'), 'ner': ('Niger', 'Africa', '16.42557716369629', '845.8693682212395'), 'nga': ('Nigeria', 'Africa', '158.57826232910156', '5186.304307542348'), 'rwa': ('Rwanda', 'Africa', '10.246842384338379', '1379.6993252327009'), 'sdn': ('Sudan', 'Africa', '34.385963439941406', '3608.7856176907358'), 'sen': ('Senegal', 'Africa', '12.916229248046875', '2741.121456198507'), 'sle': ('Sierra Leone', 'Africa', '6.4587202072143555', '1161.8796942144647'), 'swz': ('Swaziland', 'Africa', '1.2028429508209229', '7042.524359035093'), 'syc': ('Seychelles', 'Africa', '0.0914049968123436', '17960.353075613308'), 'tcd': ('Chad', 'Africa', '11.887202262878418', '1880.3748762799714'), 'tgo': ('Togo', 'Africa', '6.5029520988464355', '1222.8150529133295'), 'tun': ('Tunisia', 'Africa', '10.639930725097656', '10647.834980284626'), 'tza': ('Tanzania', 'Africa', '44.82893753051758', '1979.1718644815185'), 'uga': ('Uganda', 'Africa', '33.91513442993164', '1723.5943355766267'), 'zaf': ('South Africa', 'Africa', '51.58466339111328', '11388.640515995063'), 'zmb': ('Zambia', 'Africa', '13.850032806396484', '2870.8872656342314'), 'zwe': ('Zimbabwe', 'Africa', '14.08631706237793', '1479.0305839163732'), 'are': ('United Arab Emirates', 'Asia', '8.270684242248535', '59707.412565389604'), 'arm': ('Armenia', 'Asia', '2.8773109912872314', '8222.945234202914'), 'aze': ('Azerbaijan', 'Asia', '9.03245735168457', '12947.102198682365'), 'bgd': ('Bangladesh', 'Asia', '152.14910888671875', '2411.1020691099325'), 'bhr': ('Bahrain', 'Asia', '1.2408620119094849', '37045.81310919623'), 'brn': ('Brunei', 'Asia', '0.3886620104312897', '67320.89957245934'), 'btn': ('Bhutan', 'Asia', '0.7276409864425659', '7235.18974818538'), 'chn': ('China', 'Asia', '1359.755126953125', '9337.290772677254'), 'cyp': ('Cyprus', 'Asia', '0.829446017742157', '28046.373877741087'), 'geo': ('Georgia', 'Asia', '4.231660842895508', '7966.602756952667'), 'hkg': ('Hong Kong', 'Asia', '7.02522087097168', '41687.946418899235'), 'ind': ('India', 'Asia', '1230.980712890625', '4357.0597360582315'), 'irn': ('Iran', 'Asia', '74.56751251220703', '17328.457882894658'), 'irq': ('Iraq', 'Asia', '30.7627010345459', '9344.543768350652'), 'isr': ('Israel', 'Asia', '7.42595911026001', '28638.9037385305'), 'jor': ('Jordan', 'Asia', '7.182390213012695', '9351.387283068141'), 'jpn': ('Japan', 'Asia', '128.5518798828125', '36595.63364058582'), 'kaz': ('Kazakhstan', 'Asia', '16.398975372314453', '17908.83993251286'), 'kgz': ('Kyrgyzstan', 'Asia', '5.422337055206299', '3382.4639059259293'), 'khm': ('Cambodia', 'Asia', '14.30873966217041', '2330.127207632253'), 'kor': ('South Korea', 'Asia', '49.5528564453125', '31589.705161145695'), 'kwt': ('Kuwait', 'Asia', '2.9980831146240234', '67029.51680017101'), 'lao': ('Laos', 'Asia', '6.246273994445801', '4316.969858587265'), 'lbn': ('Lebanon', 'Asia', '4.337141036987305', '18025.24893894264'), 'lka': ('Sri Lanka', 'Asia', '20.198352813720703', '8390.429701766443'), 'mac': ('Macau', 'Asia', '0.536969006061554', '91982.39517540816'), 'mdv': ('Maldives', 'Asia', '0.36451101303100586', '12140.803390739566'), 'mmr': ('Burma', 'Asia', '50.1558952331543', '3422.241340266976'), 'mng': ('Mongolia', 'Asia', '2.7126500606536865', '7670.714034382584'), 'mys': ('Malaysia', 'Asia', '28.112289428710938', '17913.164410782432'), 'npl': ('Nepal', 'Asia', '27.023136138916016', '1996.1961554516242'), 'omn': ('Oman', 'Asia', '3.0414600372314453', '40472.674942509126'), 'pak': ('Pakistan', 'Asia', '170.5601806640625', '4171.416562353057'), 'phl': ('Philippines', 'Asia', '93.72662353515625', '5391.233965240031'), 'qat': ('Qatar', 'Asia', '1.7796759605407715', '123128.40152283433'), 'sau': ('Saudi Arabia', 'Asia', '27.425676345825195', '42331.65885721999'), 'sgp': ('Singapore', 'Asia', '5.074252128601074', '58618.43503468222'), 'syr': ('Syria', 'Asia', '21.01883316040039', '5700.329438992399'), 'tha': ('Thailand', 'Asia', '67.20880889892578', '12496.244186726299'), 'tjk': ('Tajikistan', 'Asia', '7.641630172729492', '2784.5145587763627'), 'tkm': ('Turkmenistan', 'Asia', '5.087210178375244', '16061.429412691556'), 'tur': ('Turkey', 'Asia', '72.32691192626953', '17930.678781392427'), 'twn': ('Taiwan', 'Asia', '23.140947341918945', '37188.89452901009'), 'uzb': ('Uzbekistan', 'Asia', '28.606294631958008', '6574.51672506692'), 'vnm': ('Vietnam', 'Asia', '88.4725112915039', '4428.42140209062'), 'yem': ('Yemen', 'Asia', '23.606779098510742', '4553.557258443674'), 'alb': ('Albania', 'Europe', '2.9405250549316406', '9544.73991912729'), 'aut': ('Austria', 'Europe', '8.40994930267334', '40489.80635849457'), 'bel': ('Belgium', 'Europe', '10.938738822937012', '38177.94724875522'), 'bgr': ('Bulgaria', 'Europe', '7.404590129852295', '14906.784964031736'), 'bih': ('Bosnia and Herzegovina', 'Europe', '3.7220840454101562', '9049.364732987471'), 'blr': ('Belarus', 'Europe', '9.473071098327637', '16457.02937904922'), 'che': ('Switzerland', 'Europe', '7.831971168518066', '55688.020214268225'), 'cze': ('Czech Republic', 'Europe', '10.536286354064941', '26129.56935189834'), 'deu': ('Germany', 'Europe', '80.89478302001953', '40627.23054942445'), 'dnk': ('Denmark', 'Europe', '5.554843902587891', '43416.22338615916'), 'esp': ('Spain', 'Europe', '46.788631439208984', '31610.980157042286'), 'est': ('Estonia', 'Europe', '1.3321019411087036', '20265.572596704937'), 'fin': ('Finland', 'Europe', '5.365781784057617', '38394.06158150017'), 'fra': ('France', 'Europe', '65.14578247070312', '35786.16161450548'), 'gbr': ('United Kingdom', 'Europe', '63.30684280395508', '34810.28120173958'), 'grc': ('Greece', 'Europe', '11.446004867553711', '25815.80076797162'), 'hrv': ('Croatia', 'Europe', '4.328153133392334', '19305.008088868373'), 'hun': ('Hungary', 'Europe', '9.927840232849121', '20477.79856764035'), 'irl': ('Ireland', 'Europe', '4.626927852630615', '47823.50815113634'), 'isl': ('Iceland', 'Europe', '0.3203279972076416', '37729.01607603124'), 'ita': ('Italy', 'Europe', '59.72980880737305', '34727.67268834705'), 'ltu': ('Lithuania', 'Europe', '3.123802900314331', '18475.371145517096'), 'lux': ('Luxembourg', 'Europe', '0.5078889727592468', '57882.81020537233'), 'lva': ('Latvia', 'Europe', '2.1188480854034424', '16943.688322829523'), 'mda': ('Moldova', 'Europe', '4.0844807624816895', '4173.634753274572'), 'mkd': ('Macedonia', 'Europe', '2.0707390308380127', '11265.643175619889'), 'mlt': ('Malta', 'Europe', '0.41611000895500183', '22983.44992639125'), 'mne': ('Montenegro', 'Europe', '0.6242849826812744', '14960.94855221103'), 'nld': ('Netherlands', 'Europe', '16.68291664123535', '44004.146024770846'), 'nor': ('Norway', 'Europe', '4.885878086090088', '73262.68174170727'), 'pol': ('Poland', 'Europe', '38.323402404785156', '21006.027309294514'), 'prt': ('Portugal', 'Europe', '10.652320861816406', '25788.2739652247'), 'rou': ('Romania', 'Europe', '20.44034767150879', '16775.609043478133'), 'rus': ('Russia', 'Asia', '143.15386962890625', '21754.067899615977'), 'srb': ('Serbia', 'Europe', '7.291436195373535', '12453.482551916944'), 'svk': ('Slovakia', 'Europe', '5.404294013977051', '23061.12099058148'), 'svn': ('Slovenia', 'Europe', '2.045167922973633', '25831.33128718208'), 'swe': ('Sweden', 'Europe', '9.390168190002441', '40421.906436576974'), 'ukr': ('Ukraine', 'Europe', '45.79249954223633', '8713.259627419637'), 'abw': ('Aruba', 'NorthAmerica', '0.10166899859905243', '37059.34143869512'), 'aia': ('Anguilla', 'NorthAmerica', '0.013768999837338924', '21098.057152999143'), 'atg': ('Antigua and Barbuda', 'NorthAmerica', '0.09466099739074707', '17162.16102781353'), 'bhs': ('Bahamas', 'NorthAmerica', '0.36083200573921204', '29504.581346144332'), 'blz': ('Belize', 'NorthAmerica', '0.3216080069541931', '7145.952547655193'), 'bmu': ('Bermuda', 'NorthAmerica', '0.06395599991083145', '51447.147481910884'), 'brb': ('Barbados', 'NorthAmerica', '0.27956900000572205', '13995.612896540895'), 'can': ('Canada', 'NorthAmerica', '34.16866683959961', '40269.03526728651'), 'cri': ('Costa Rica', 'NorthAmerica', '4.5452799797058105', '12106.99191566891'), 'cuw': ('CuraÃ§ao', 'NorthAmerica', '0.14760799705982208', '24337.816177887613'), 'cym': ('Cayman Islands', 'NorthAmerica', '0.05550700053572655', '36670.678481483985'), 'dma': ('Dominica', 'NorthAmerica', '0.07143999636173248', '9101.993729581038'), 'dom': ('Dominican Republic', 'NorthAmerica', '9.897985458374023', '11500.13134401987'), 'grd': ('Grenada', 'NorthAmerica', '0.1046769991517067', '9791.291133092265'), 'gtm': ('Guatemala', 'NorthAmerica', '14.630416870117188', '6359.262684615136'), 'hnd': ('Honduras', 'NorthAmerica', '8.194778442382812', '3789.9102248753848'), 'hti': ('Haiti', 'NorthAmerica', '9.999616622924805', '1650.2697128700804'), 'jam': ('Jamaica', 'NorthAmerica', '2.8172099590301514', '6675.176956450172'), 'kna': ('Saint Kitts and Nevis', 'NorthAmerica', '0.05144499987363815', '17837.349758162076'), 'lca': ('Saint Lucia', 'NorthAmerica', '0.17258000373840332', '9178.266990673521'), 'mex': ('Mexico', 'NorthAmerica', '117.31893920898438', '14507.011923865603'), 'msr': ('Montserrat', 'NorthAmerica', '0.00494399992749095', '15385.002991478228'), 'nic': ('Nicaragua', 'NorthAmerica', '5.737722873687744', '3992.7619078961748'), 'pan': ('Panama', 'NorthAmerica', '3.6432220935821533', '15055.237591848218'), 'slv': ('El Salvador', 'NorthAmerica', '6.164626121520996', '6096.958357099287'), 'tca': ('Turks and Caicos Islands', 'NorthAmerica', '0.030993999913334846', '7230.966074605446'), 'tto': ('Trinidad and Tobago', 'NorthAmerica', '1.3280999660491943', '27510.236190041924'), 'usa': ('United States', 'NorthAmerica', '308.6413879394531', '49500.62628346238'), 'vct': ('Saint Vincent and the Grenadines', 'NorthAmerica', '0.10931500047445297', '8095.21923068351'), 'vgb': ('British Virgin Islands', 'NorthAmerica', '0.027224000543355942', '21183.279165646647'), 'aus': ('Australia', 'Oceania', '22.12006378173828', '44854.90004866657'), 'fji': ('Fiji', 'Oceania', '0.8599500060081482', '6902.0687720944225'), 'nzl': ('New Zealand', 'Oceania', '4.370061874389648', '30867.05437525178'), 'arg': ('Argentina', 'SouthAmerica', '41.2238883972168', '15841.658208158999'), 'bol': ('Bolivia', 'SouthAmerica', '9.918242454528809', '4806.608983377068'), 'bra': ('Brazil', 'SouthAmerica', '196.7962646484375', '13541.462561602328'), 'chl': ('Chile', 'SouthAmerica', '16.99335479736328', '18092.94007371081')}\n"
     ]
    }
   ],
   "source": [
    "cData = {}\n",
    "keys_list = [\"countryname\", \"continent\", \"population(mil)\", \"gdp\"]\n",
    "for raw_dict in raw:\n",
    "    values_list = [] # Stores all the information in the 2nd to 5th column of the cdata file\n",
    "    for key_name in keys_list:\n",
    "        values_list.append(raw_dict[key_name])\n",
    "    cData[raw_dict[\"iso\"]] = tuple(values_list) # Storing that information into a dictionary value\n",
    "print(cData)"
   ]
  },
  {
   "cell_type": "markdown",
   "metadata": {},
   "source": [
    "**14**: Using *cData*, identify what is the most common Continent among the nations in the list *countries*."
   ]
  },
  {
   "cell_type": "code",
   "execution_count": 27,
   "metadata": {},
   "outputs": [
    {
     "name": "stdout",
     "output_type": "stream",
     "text": [
      "{'asia': 47, 'europe': 38, 'northamerica': 30, 'southamerica': 4}\n",
      "The most common continent in the countries list is Asia appearing 47 in the cData data\n"
     ]
    }
   ],
   "source": [
    "continent_dict = {} # Ex: {\"continent_name\": \"continent_count\"}\n",
    "\n",
    "for key, value in cData.items():\n",
    "    if value[1] in continent_dict.keys(): # The continent is in the dictionary already\n",
    "        continent_dict[value[1]] += 1\n",
    "    else:\n",
    "        continent_dict[value[1]] = 1 # Creating a new key value pair in the continent_dict\n",
    "\n",
    "# Formating the continents keys to avoid problems in the search\n",
    "continent_dict = {key.lower(): value for key, value in continent_dict.items()} # Continents in cData \n",
    "continent_name = set([element[2].replace(\" \", \"\").lower() for element in countries]) # Continents in countries\n",
    "\n",
    "# This dictionary sotres a interception between the continent_name set and the continent_dict. The russia continent isn't\n",
    "# relevant in this case because Asia and Europe are already in the continent_name set\n",
    "common_continents = {} # This dictionary sotres a interception between the continent_name set and the continent_dict\n",
    "for continent, count in continent_dict.items():\n",
    "    if continent in continent_name:\n",
    "        common_continents[continent] = count\n",
    "\n",
    "most_common_continent = max(common_continents, key=common_continents.get)\n",
    "\n",
    "print(common_continents)\n",
    "print(f\"The most common continent in the countries list is {most_common_continent.capitalize()} appearing {common_continents[most_common_continent]} in the cData data\")"
   ]
  },
  {
   "cell_type": "markdown",
   "metadata": {},
   "source": [
    "**15**: Using *cData*, identify what is the the most populated nation in the list *countries*."
   ]
  },
  {
   "cell_type": "code",
   "execution_count": 28,
   "metadata": {},
   "outputs": [
    {
     "name": "stdout",
     "output_type": "stream",
     "text": [
      "Countries not found: ['Colombia', 'Nevada', 'Denmark']\n",
      "{'Portugal': 10.652320861816406, 'Israel': 0.3203279972076416, 'Japan': 128.5518798828125, 'Russia': 143.15386962890625, 'Norway': 4.885878086090088}\n"
     ]
    }
   ],
   "source": [
    "countries_not_found = []\n",
    "countries_population = {} # Ex: {\"country_name\" : \"population\"}\n",
    "for element in countries:\n",
    "    country_name = element[1]\n",
    "    iso_code = element[0].lower()\n",
    "    try: # When the iso code in the countries list is not found in cData print \"Country was not found in cData\" \n",
    "        country_population = float(cData[iso_code][2])\n",
    "        countries_population[country_name] = country_population\n",
    "    except KeyError:\n",
    "        countries_not_found.append(country_name)\n",
    "print(f\"Countries not found: {countries_not_found}\")\n",
    "print(countries_population)"
   ]
  },
  {
   "cell_type": "code",
   "execution_count": 29,
   "metadata": {},
   "outputs": [
    {
     "name": "stdout",
     "output_type": "stream",
     "text": [
      "Denmark was found with iso dnk\n",
      "Countries not found: ['Colombia', 'Nevada']\n",
      "{'Portugal': 10.652320861816406, 'Israel': 0.3203279972076416, 'Japan': 128.5518798828125, 'Russia': 143.15386962890625, 'Norway': 4.885878086090088, 'Denmark': 5.554843902587891}\n"
     ]
    }
   ],
   "source": [
    "# Colombia, Nevada and Denmark weren´t found in cData by their ISO code. Let´s see if they are found by the country name\n",
    "for iso_code, country_info in cData.items():\n",
    "    country_name = country_info[0]\n",
    "    country_population = float(country_info[2])\n",
    "    if country_name in countries_not_found:\n",
    "        print(f\"{country_name} was found with iso {iso_code}\")\n",
    "        countries_population[country_name] = country_population\n",
    "        countries_not_found.remove(country_name)\n",
    "print(f\"Countries not found: {countries_not_found}\")\n",
    "print(countries_population)"
   ]
  },
  {
   "cell_type": "code",
   "execution_count": 30,
   "metadata": {},
   "outputs": [
    {
     "name": "stdout",
     "output_type": "stream",
     "text": [
      "The most populated nation is Russia with 143.15386962890625 milion habitants.\n"
     ]
    }
   ],
   "source": [
    "biggest_nation = max(countries_population, key=lambda k: countries_population[k])\n",
    "print(f\"The most populated nation is {biggest_nation} with {countries_population[biggest_nation]} milion habitants.\")"
   ]
  },
  {
   "cell_type": "markdown",
   "metadata": {},
   "source": [
    "**16**: Compare the average GDP per capita of the nations in the list *countries* with the average GDP of the countries in cdata file. What can you conclude?"
   ]
  },
  {
   "cell_type": "code",
   "execution_count": 31,
   "metadata": {},
   "outputs": [
    {
     "name": "stdout",
     "output_type": "stream",
     "text": [
      "Colombia not found\n",
      "Nevada not found\n",
      "The average GDP per capita of the nations in the list countries is: 39757.649451554025\n",
      "The average GDP per capita of the nations in the cData file is: 18014.65454394603\n"
     ]
    }
   ],
   "source": [
    "# We already know that Denmark has a different iso code in the cData file so we will change the iso code in cData\n",
    "try:\n",
    "    cData[\"den\"] = cData.pop(\"dnk\")\n",
    "except KeyError:\n",
    "    pass\n",
    "country_gdp_sum = 0\n",
    "country_count = 0\n",
    "for element in countries:\n",
    "    iso_code = element[0].lower()\n",
    "    try:\n",
    "        country_gdp = float(cData[iso_code][3])\n",
    "        country_gdp_sum += country_gdp\n",
    "        country_count += 1\n",
    "    except KeyError:\n",
    "        print(f\"{element[1]} not found\")\n",
    "print(f\"The average GDP per capita of the nations in the list countries is: {country_gdp_sum / country_count}\")\n",
    "\n",
    "country_gdp_sum = 0\n",
    "country_count = 0\n",
    "for key, value in cData.items():\n",
    "        country_gdp = float(value[3])\n",
    "        country_gdp_sum += country_gdp\n",
    "        country_count += 1\n",
    "print(f\"The average GDP per capita of the nations in the cData file is: {country_gdp_sum / country_count}\")"
   ]
  },
  {
   "cell_type": "markdown",
   "metadata": {},
   "source": [
    "The nations in the countries list have a gpd average higher than the countries in the cData, what means that the nations inside the countries list have, generally, a stronger economic system."
   ]
  },
  {
   "cell_type": "markdown",
   "metadata": {},
   "source": [
    "# <span style=\"color:brown\"> Part 3 - Functions hurt nobody </span>\n",
    "\n",
    "## Exercise I - I hate math\n",
    "\n",
    "##### Consider the following equation:\n",
    "\n",
    "\\begin{equation}\n",
    "    y = 6x^2 + 3x + 2\n",
    "\\end{equation}\n",
    "\n",
    "**17**: Write a function called *f* that takes one argument, x, and returns y according to the equation above. "
   ]
  },
  {
   "cell_type": "code",
   "execution_count": 32,
   "metadata": {},
   "outputs": [],
   "source": [
    "def f(x):\n",
    "    y = 6*(x**2) + 3*x + 2\n",
    "    return y"
   ]
  },
  {
   "cell_type": "markdown",
   "metadata": {},
   "source": [
    "**17.1**: Call the function for x = 2 and print the answer."
   ]
  },
  {
   "cell_type": "code",
   "execution_count": 33,
   "metadata": {},
   "outputs": [
    {
     "data": {
      "text/plain": [
       "32"
      ]
     },
     "execution_count": 33,
     "metadata": {},
     "output_type": "execute_result"
    }
   ],
   "source": [
    "f(2)"
   ]
  },
  {
   "cell_type": "markdown",
   "metadata": {},
   "source": [
    "##### Consider the following sequence of numbers:\n",
    "\n",
    "\\begin{equation}\n",
    "    x_0 = 0; ~~~ ~~~ ~~~ ~~ ~~~ ~~~ ~~~ ~~ ~~~ ~~~ ~~~ ~~ ~~~ ~~~ ~~ ~ \\\\\n",
    "    x_{n} = x_{n-1} - n; ~~~ \\textit{ if} ~~~ x_{n-1}-n > 0 \\\\\n",
    "    x_{n} = x_{n-1} + n; ~~~ \\textit{ otherwise}~~~ ~~~ ~~~ ~~ \\\\\n",
    "\\end{equation}\n",
    "\n",
    "**17.2**: Write a function that returns the nth digit of the above defined sequence. <br>\n",
    "\n",
    "*Note: the above sequence is also known as the Recamán's sequence, and it was invnted by Bernardo Recamán Santos (Bogotá, Colombia)*"
   ]
  },
  {
   "cell_type": "code",
   "execution_count": 34,
   "metadata": {},
   "outputs": [
    {
     "name": "stdout",
     "output_type": "stream",
     "text": [
      "7\n"
     ]
    }
   ],
   "source": [
    "def recaman_sequence(n):\n",
    "    sequence = [0]                                           # define and initialize the sequence with 0\n",
    "    while len(sequence) <= n:                                # ensures that the sequence is not generated indefinitely\n",
    "        next_value = sequence[-1] - len(sequence)            # calculate next value\n",
    "        if next_value > 0 and next_value not in sequence:    # ensure the next value isn't negative and the sequence only includes unique values\n",
    "            sequence.append(next_value)                      # add next value to the sequence  \n",
    "        else:\n",
    "            next_value = sequence[-1] + len(sequence)\n",
    "            sequence.append(next_value)                      \n",
    "    return sequence[n]\n",
    "    \n",
    "print(recaman_sequence(5))      "
   ]
  },
  {
   "cell_type": "markdown",
   "metadata": {},
   "source": [
    "**17.3** Write a function named isPrime that takes an integer as input and outputs True if the number is prime and False if the number if not prime."
   ]
  },
  {
   "cell_type": "code",
   "execution_count": 35,
   "metadata": {},
   "outputs": [],
   "source": [
    "def isPrime(n):\n",
    "    if n <= 1:                                             # numbers less than or equal to 1 are not prime numbers\n",
    "        return False\n",
    "    else:\n",
    "        for i in range(2, n):                              \n",
    "            if n % i == 0:                                \n",
    "                return False\n",
    "        return True"
   ]
  },
  {
   "cell_type": "markdown",
   "metadata": {},
   "source": [
    "**17.4** Test your function against some examples to show that it works as expected."
   ]
  },
  {
   "cell_type": "code",
   "execution_count": 36,
   "metadata": {},
   "outputs": [
    {
     "data": {
      "text/plain": [
       "(True, False, False, True, False, True)"
      ]
     },
     "execution_count": 36,
     "metadata": {},
     "output_type": "execute_result"
    }
   ],
   "source": [
    "isPrime(89), isPrime(77), isPrime(21), isPrime(19), isPrime(18), isPrime(17)"
   ]
  },
  {
   "cell_type": "markdown",
   "metadata": {},
   "source": [
    "## Exercise II - Monty Hall Problem\n"
   ]
  },
  {
   "cell_type": "markdown",
   "metadata": {},
   "source": [
    "**18**: The Monty Hall Problem is a probability puzzle loosely based on the American television game show \"Let's Make a Deal\" and named after its original host, Monty Hall. The puzzle can be stated as follows\n",
    "\n",
    "> Suppose you're on a game show, and you're given the choice of three doors: Behind one door is a car; behind the others, goats. You pick a door, say No. 1, and the host, who knows what's behind the doors, opens another door, say No. 3, which has a goat. He then says to you, \"Do you want to pick door No. 2?\" Is it to your advantage to switch your choice? <br>\n",
    "+info: https://en.wikipedia.org/wiki/Monty_Hall_problem\n",
    "\n",
    "While intuitively your guess might be that the chances of winning the car is 1/3 independently of the choice to switch doors or not. Howewver, the odds of winning if you switch doors are 2/3 and greater than if you decide not to switch. While there are theoretical solutions to this problem that allow us to estimate the correct odds of winning in each scenario -- switching or not doors -- an alternative way to proof such outcome is through computer simulations. That is the goal of this exercise, to write the necessary components to simulate the Monty Hall problem and validate the theoretical results through simulations.\n",
    "\n",
    "In this exercise, start by implementing a function that simulates one instance of the Monty Hall problem. \n",
    "In that sense, write a function called MontyHall that accepts **one argument**:\n",
    "- A boolean (True/False, or 1/0) that specifies if the player switches doors or not (after the host has opened his door, which contains a goat).\n",
    "The function should return True if the player wins the car or False if not.\n",
    "\n",
    "Naturally, for the function to reproduce the contest it needs to consider and perform some actions, such as:\n",
    "- Set up the game, that is, create the necessary variables to store the information about three doors and what they have behind, as well as an indicator to track the choice of the player.\n",
    "- Given the initial choice of the player, simulate the opening of one of the two remaining doors that contains a goat.\n",
    "- Given the last two doors left, simulate if the player wants to switch or not his/her choice given their strategy (defined by the input boolean argument of the function).\n",
    "- Output the result, if the contestant correctly guesses which door hides the car or if not.\n",
    "\n",
    "The function MontyHall should simulate one instance of the contest given the choice of the player (to switch or not).\n",
    "\n",
    "**The goal is to understand, statistically, which action leads to the highest probability of winning.** <br>\n",
    "*Note: You should use the library random to solve this exercise.*"
   ]
  },
  {
   "cell_type": "code",
   "execution_count": 37,
   "metadata": {},
   "outputs": [],
   "source": [
    "def MontyHall(switch):\n",
    "    ndoors = 3                                                       \n",
    "    doors = ['goat', 'goat', 'car']                     # represents the doors of the game\n",
    "    shuffle(doors)                               # the order is randomized\n",
    "    first_choice = randint(0,2)                  # a random integer between 0 and 2 is generated to represent the first choice\n",
    "    \n",
    "    revealed_door = None\n",
    "    for i in range(ndoors):\n",
    "        if i != first_choice and doors[i] == 'goat':     # finding a door that has a goat and is not the door chosen by the contestant using a loop\n",
    "            revealed_door = i\n",
    "            break                                        # breaks out of the loop\n",
    "    \n",
    "    if switch:\n",
    "        new_choice = next(i for i in range(ndoors) if i != first_choice and i != revealed_door)   \n",
    "        player_wins = doors[new_choice] == 'car'      # if the contestant chooses to switch, the code calculates the remaining unchosen door           \n",
    "    else:                                                  \n",
    "        player_wins = doors[first_choice] == 'car'    # if the contestant chooses to stay with his choise\n",
    "                                                       \n",
    "    return player_wins                                # code checks if there is a car behind the door and the function returns player_wins\n",
    "                                                      # which is True if the player won and False if he didn't\n",
    "         "
   ]
  },
  {
   "cell_type": "markdown",
   "metadata": {},
   "source": [
    "**18.1** Now that you have a function that simulates an instance of the Monty Hall problem, implement an experiment where you repeat many times (thousands of times) for each of the two possible scenarios: player switching the door, and player not switcing the door. Keep track of the results and estimate the frequencies of wins for each scenario and discuss if the results are inline with the theoretical odds."
   ]
  },
  {
   "cell_type": "code",
   "execution_count": 38,
   "metadata": {},
   "outputs": [
    {
     "name": "stdout",
     "output_type": "stream",
     "text": [
      "Percentage of wins when switching the door: 67.47%\n",
      "Percentage of wins when not switching the door: 33.46%\n",
      "According to the MontyHall problem, the probability of winning without switching the door is 1/3 and the probability if you switch the door is 2/3, so    the results are in line with the theoretical odds.\n"
     ]
    }
   ],
   "source": [
    "def MontyHallexperiment(simulations):\n",
    "    switch_wins = 0                                  # two variables are initialized to zero and will be used to count the number of wins\n",
    "    no_switch_wins = 0\n",
    "                                                     # loop that runs a certain number of times, in this case 'simulations' = 10 000\n",
    "    for _ in range(simulations):                     \n",
    "        if MontyHall(switch=True):                   # call the MontyHall function twice, 'True' to simulate if the contestant switches \n",
    "            switch_wins += 1                         # and 'False' if the contestant chooses to stay with his first choise           \n",
    "        if MontyHall(switch=False):                                 \n",
    "            no_switch_wins += 1                      # if the contestant wins in the switch scenario it increments the switch_wins counter\n",
    "                                                     # if the contestant wins in the no_switch scenario it increments the _no_switch_wins counter\n",
    "    \n",
    "    # calculating the winning percentages for both scenarios\n",
    "    switch_win_percentage = round((switch_wins / simulations) * 100, 2)\n",
    "    no_switch_win_percentage = round((no_switch_wins / simulations) * 100, 2) \n",
    "\n",
    "    # returns a tuple with the percentages\n",
    "    return switch_win_percentage, no_switch_win_percentage\n",
    "\n",
    "simulations = 10000\n",
    "\n",
    "switch_win_percentage, no_switch_win_percentage = MontyHallexperiment(simulations)\n",
    "\n",
    "print(f\"Percentage of wins when switching the door: {switch_win_percentage}%\")\n",
    "print(f\"Percentage of wins when not switching the door: {no_switch_win_percentage}%\")\n",
    "print('According to the MontyHall problem, the probability of winning without switching the door is 1/3 and the probability if you switch the door is 2/3, so    the results are in line with the theoretical odds.')\n",
    "  "
   ]
  },
  {
   "cell_type": "markdown",
   "metadata": {},
   "source": [
    "## Exercise III\n",
    "\n",
    "**19**: Consider the list *A*, declared below. <br>\n",
    "Use the function map() to change the values of A by adding 1 to each value if it is even and subtracting 1 to it otherwise."
   ]
  },
  {
   "cell_type": "code",
   "execution_count": 39,
   "metadata": {},
   "outputs": [],
   "source": [
    "A = [460,3347,3044,490,699,1258,1804,973,2223,3416,2879,1058,2915,2422,351,1543,1020,208,643,795,3337,2585,471,2623,1077]"
   ]
  },
  {
   "cell_type": "code",
   "execution_count": 40,
   "metadata": {},
   "outputs": [
    {
     "name": "stdout",
     "output_type": "stream",
     "text": [
      "[461, 3346, 3045, 491, 698, 1259, 1805, 972, 2222, 3417, 2878, 1059, 2914, 2423, 350, 1542, 1021, 209, 642, 794, 3336, 2584, 470, 2622, 1076]\n"
     ]
    }
   ],
   "source": [
    "list_A = list(map(lambda x: x + 1 if x % 2 == 0 else x - 1, A))\n",
    "print(list_A)"
   ]
  },
  {
   "cell_type": "markdown",
   "metadata": {},
   "source": [
    "**20**: Create a list B with the same size of A, where each element is True if the associated value in list A is greater than 700, else is False."
   ]
  },
  {
   "cell_type": "code",
   "execution_count": 41,
   "metadata": {},
   "outputs": [
    {
     "name": "stdout",
     "output_type": "stream",
     "text": [
      "[False, True, True, False, False, True, True, True, True, True, True, True, True, True, False, True, True, False, False, True, True, True, False, True, True]\n"
     ]
    }
   ],
   "source": [
    "B = [n > 700 for n in A]\n",
    "print(B)"
   ]
  },
  {
   "cell_type": "markdown",
   "metadata": {},
   "source": [
    "**21**: Create a list L that contains the Logarithm of base 10 of each value in A. <br>\n",
    "\n",
    "*Note: You should use the module math to solve this exercise.*"
   ]
  },
  {
   "cell_type": "code",
   "execution_count": 42,
   "metadata": {},
   "outputs": [
    {
     "name": "stdout",
     "output_type": "stream",
     "text": [
      "[2.662757831681574, 3.5246557123577773, 3.4834446480985353, 2.690196080028514, 2.8444771757456815, 3.09968064110925, 3.256236533205923, 2.988112840268352, 3.3469394626989906, 3.5335178620169674, 3.459241664878082, 3.024485667699167, 3.464638559095033, 3.3841741388070337, 2.545307116465824, 3.188365926063148, 3.0086001717619175, 2.3180633349627615, 2.808210972924222, 2.9003671286564705, 3.5233562066547925, 3.412460547429961, 2.673020907128896, 3.4187982905903533, 3.0322157032979815]\n"
     ]
    }
   ],
   "source": [
    "L = [math.log10(n) for n in A]\n",
    "print(L)"
   ]
  },
  {
   "cell_type": "markdown",
   "metadata": {},
   "source": [
    "**22**: How many numbers in A are greater than 1000? <br>\n",
    "\n",
    "*Note: You should use the function filter().*"
   ]
  },
  {
   "cell_type": "code",
   "execution_count": 43,
   "metadata": {},
   "outputs": [
    {
     "name": "stdout",
     "output_type": "stream",
     "text": [
      "There are 16 numbers greater than 1000.\n"
     ]
    }
   ],
   "source": [
    "list_filtered = list(filter(lambda x: x > 1000, A))\n",
    "count = len(list_filtered)\n",
    "print(\"There are\",count, \"numbers greater than 1000.\")"
   ]
  },
  {
   "cell_type": "markdown",
   "metadata": {},
   "source": [
    "**23** Use the function isPrime, that you declared in 17.3, to identify which numbers from A are prime. Note that depending on your implementation of isPrime this task can take more or less time. Use filter to achieve this task."
   ]
  },
  {
   "cell_type": "code",
   "execution_count": 44,
   "metadata": {},
   "outputs": [
    {
     "name": "stdout",
     "output_type": "stream",
     "text": [
      "[3347, 2879, 1543, 643]\n"
     ]
    }
   ],
   "source": [
    "prime_numbers = list(filter(isPrime, A))\n",
    "print(prime_numbers)"
   ]
  },
  {
   "cell_type": "markdown",
   "metadata": {},
   "source": [
    "### Congratulations, it is done!"
   ]
  },
  {
   "cell_type": "markdown",
   "metadata": {},
   "source": [
    "![LEO_GOOD_JOB](https://www.idlememe.com/wp-content/uploads/2022/01/good-job-meme-idlememe-3.jpg)"
   ]
  },
  {
   "cell_type": "code",
   "execution_count": null,
   "metadata": {},
   "outputs": [],
   "source": []
  }
 ],
 "metadata": {
  "kernelspec": {
   "display_name": "Python 3",
   "language": "python",
   "name": "python3"
  },
  "language_info": {
   "codemirror_mode": {
    "name": "ipython",
    "version": 3
   },
   "file_extension": ".py",
   "mimetype": "text/x-python",
   "name": "python",
   "nbconvert_exporter": "python",
   "pygments_lexer": "ipython3",
   "version": "3.8.3"
  }
 },
 "nbformat": 4,
 "nbformat_minor": 4
}
