{
 "cells": [
  {
   "cell_type": "markdown",
   "metadata": {},
   "source": [
    "# Programming for Data Science 2023\n",
    "## Homework Assigment One\n",
    "\n",
    "Homework activities aim not only at testing your ability to put into practice the concepts you have learned during the Lectures and Labs, but also your ability to explore the Python documentation as a resource. \n",
    "\n",
    "Above all, it is an opportunity for you to challenge yourself and practice. If you are having difficulties with the assignment reach out for support.\n",
    "\n",
    "The Homework Assigment One is divided into **three parts**:\n",
    "1. Explore the core building blocks of programming, focusing in variables, data structures, and their manipulation;\n",
    "2. Explore data loading and analysis using the core elements of Python, without fancy third-party libraries;\n",
    "3. Explore functional programming by defining different functions and operating with the map() and filter().\n",
    "\n",
    "Your submission will be graded according to the following guidelines:\n",
    "1. **Execution** (does your program do what is asked from the exercise?);\n",
    "2. **Objectivity** (are you using the adequate libraries?);\n",
    "3. **Readibility** of your code (that includes comments, naming of variables, supporting text, etc ...).\n",
    "\n",
    "This assignment is to be done in groups of two, groups that are caught cheating will obtain a score of 0 points. \\\n",
    "\n",
    "Oral Examination will be conducted to a subset of groups picked randomly and or that have been flagged during the grading\n",
    "\n",
    "The Homeworking Assignment One is worth **20%** of your final grade.\n",
    "\n",
    "The submission package should correspond to a .zip archive (**.rar files are not accepted**) with the following files:\n",
    "1. Jupyter Notebook with the output of all the cells;\n",
    "2. PDF/HTML of your Jupyter Notebook (on Jupyter go to File -> Download As -> PDF);\n",
    "3. All text or .csv files exported as part of the exercises.\n",
    "\n",
    "#### Important Notes: \n",
    "- **You are ONLY allowed to use any library from the Python STL (see here https://docs.python.org/3/library/).**\n",
    "- **Comment your code properly, which includes naming your variables in a meaningful manner. Badly documented code will be penalized.**</b>\n",
    "- **Submissions in non .zip format will be penalized with 2 points.**\n",
    "\n",
    "Submission is done through the respective Moodle activity.\\\n",
    "Deadline is **20223-09-28**, a Thursday, at 23:59.\\\n",
    "A penality of 1 point per day late will be applied to late deliveries."
   ]
  },
  {
   "cell_type": "markdown",
   "metadata": {},
   "source": [
    "# <span style=\"color:brown\"> Start Here </span> \n",
    "\n",
    "[Please Complete the following form with your details]\n",
    "\n",
    "Student Name - Andre Moreira Lopes<br>\n",
    "Student id - 20230570<br>\n",
    "Contact e-mail - 20230570@novaims.unl.pt<br>\n",
    "\n",
    "\n",
    "Student Name - <br>\n",
    "Student id - <br>\n",
    "Contact e-mail - <br>"
   ]
  },
  {
   "cell_type": "markdown",
   "metadata": {},
   "source": [
    "# <span style=\"color:brown\"> Part 1 -  Variable Declaration and Manipulation </span> \n",
    "\n",
    "## Exercise I - of Lists and Random numbers\n",
    "\n",
    "**1**: Declare a variable X that stores a list of 100 integers randomly sampled between -100 and 100.<br>\n",
    "Note: You are not allowed to use third party libraries -- such as Numpy, Pandas, or Scipy -- in this exercise."
   ]
  },
  {
   "cell_type": "code",
   "execution_count": 94,
   "metadata": {},
   "outputs": [],
   "source": [
    "from random import randint\n",
    "\n",
    "# Initializing the list\n",
    "X = []\n",
    "\n",
    "# Populating the list with 100 randomly sampled integer \n",
    "for i in range(100):\n",
    "    X.append(randint(-100, 100))"
   ]
  },
  {
   "cell_type": "code",
   "execution_count": 96,
   "metadata": {},
   "outputs": [
    {
     "name": "stdout",
     "output_type": "stream",
     "text": [
      "[-99, 38, -5, -28, 70, -56, -83, -78, 26, 5, -70, 43, -86, 15, 13, 42, -65, 50, -1, 37, -68, -8, -10, 55, -49, -100, -43, 12, 39, 30, 58, -30, -71, -8, -23, 1, 99, -25, 50, -24, -56, -61, 0, 89, -39, -19, 53, 56, -21, -33, -93, -64, 54, -98, -8, 97, 13, 33, -73, 92, 61, 33, 8, 17, -32, -32, 26, -92, 72, 100, -51, -79, -74, -47, -45, -46, 32, 83, -92, 1, -4, 70, -79, -63, -24, 35, -35, -98, -81, 94, -53, -61, -85, 48, 69, 77, -37, 41, 20, -75]\n"
     ]
    }
   ],
   "source": [
    "print(X)"
   ]
  },
  {
   "cell_type": "markdown",
   "metadata": {},
   "source": [
    "**2**: How many odd numbers are in the list X?\n"
   ]
  },
  {
   "cell_type": "code",
   "execution_count": 97,
   "metadata": {},
   "outputs": [],
   "source": [
    "# Initializing the variable odd_count\n",
    "odd_count = 0\n",
    "\n",
    "for value in X:\n",
    "    if (value % 2) != 0: # True if the value is odd\n",
    "        odd_count += 1 # Incrementing the odd count"
   ]
  },
  {
   "cell_type": "code",
   "execution_count": 98,
   "metadata": {},
   "outputs": [
    {
     "name": "stdout",
     "output_type": "stream",
     "text": [
      "Total odd numbers: 53\n"
     ]
    }
   ],
   "source": [
    "print(f\"Total odd numbers: {odd_count}\")"
   ]
  },
  {
   "cell_type": "markdown",
   "metadata": {},
   "source": [
    "**2.1** Check if there are as many even numbers as there are odd numbers, else discard the list and generate a new one."
   ]
  },
  {
   "cell_type": "markdown",
   "metadata": {},
   "source": [
    "# Duvida"
   ]
  },
  {
   "cell_type": "code",
   "execution_count": 99,
   "metadata": {},
   "outputs": [],
   "source": [
    "# Initializing the variable even_count\n",
    "even_count = 0\n",
    "\n",
    "for value in X:\n",
    "    if (value % 2) == 0: # True if the value is even\n",
    "        even_count += 1 # Incrementing the even count\n",
    "\n",
    "# Checking if there are as many even numbers as there are odd numbers, if not creating a new list\n",
    "if odd_count == even_count:\n",
    "    print(\"Same number of even and odd numbers\")\n",
    "    \n",
    "else:\n",
    "    X = []   \n",
    "    for i in range(100):\n",
    "        X.append(randint(-100, 100))\n"
   ]
  },
  {
   "cell_type": "code",
   "execution_count": 100,
   "metadata": {},
   "outputs": [
    {
     "name": "stdout",
     "output_type": "stream",
     "text": [
      "[60, 86, 87, -2, 83, -40, -12, 90, -13, -91, -87, 77, 10, -68, 8, -55, 4, -84, 17, -78, 7, -74, -53, 48, -93, 74, -87, 42, 87, -8, 12, -38, 31, -31, -54, 51, 22, 39, 72, 98, -60, -59, -33, 86, -57, 51, 88, -66, -36, -31, -70, -69, 73, -91, 16, -69, 25, -39, 87, 94, -57, 2, 99, 17, -16, 33, -93, 81, -75, -32, 94, 30, 75, 71, 42, 26, 46, -59, 10, 96, -4, -18, -42, -65, -51, 26, -63, 88, -62, 98, 12, 64, -34, -57, -62, -44, -29, -81, 100, 33]\n"
     ]
    }
   ],
   "source": [
    "print(X)"
   ]
  },
  {
   "cell_type": "markdown",
   "metadata": {},
   "source": [
    "**2.2** Create a pipeline to automatically perform the tasks above such that you avoid having to run the cells multiple times to reach the desired outcome."
   ]
  },
  {
   "cell_type": "markdown",
   "metadata": {},
   "source": [
    "# POR FAZER: E suposto fazer um loop para obrigar a list X ficar 50-50 ou basta fazer uma vez???"
   ]
  },
  {
   "cell_type": "code",
   "execution_count": 101,
   "metadata": {},
   "outputs": [],
   "source": [
    "def pipeline():\n",
    "    # Initializing variables\n",
    "    X = []\n",
    "    odd_count = 0\n",
    "    even_count = 0\n",
    "    \n",
    "    # Populating the X list\n",
    "    for i in range(100):\n",
    "        X.append(randint(-100, 100))\n",
    "    \n",
    "    # Counting the number of odd and even numbers\n",
    "    for value in X:\n",
    "        if (value % 2) != 0:\n",
    "            odd_count += 1\n",
    "        else:\n",
    "            even_count += 1\n",
    "            \n",
    "    # Checking if it has the same number of odd and even numbers, if not we call the function until the\n",
    "    # conditon is satisfied\n",
    "    if odd_count != even_count:\n",
    "        return pipeline()\n",
    "    else:\n",
    "        return X"
   ]
  },
  {
   "cell_type": "code",
   "execution_count": 102,
   "metadata": {},
   "outputs": [
    {
     "name": "stdout",
     "output_type": "stream",
     "text": [
      "[10, -81, -43, -26, -9, -41, -21, 20, 8, -21, 5, -58, 25, 71, 99, -68, 96, 61, -21, -87, 61, -38, 18, -63, 31, 14, -47, 60, -64, -13, 16, 66, -52, 19, -10, 39, -88, -25, 26, 55, 84, 45, 27, -55, -99, -39, 70, -26, 3, 54, -54, -55, -41, 66, -55, -43, 46, 6, 21, 33, 56, 61, -15, -96, 44, -7, 10, 85, 86, 23, 60, -3, 74, -46, 78, 90, -47, 88, -3, -77, -82, 56, 50, -28, 89, 83, -1, 55, -77, -58, -56, -22, -75, 27, 20, -86, -72, 16, -96, 42]\n"
     ]
    }
   ],
   "source": [
    "X = pipeline()\n",
    "print(X)"
   ]
  },
  {
   "cell_type": "markdown",
   "metadata": {},
   "source": [
    "**3**: Print the number of digits that the 5th and 100th element of the list have. <br>\n",
    "*Note: For instance, the number 1 contains one digit, the number 10 contains two digits, the number -2 contains one digit.*"
   ]
  },
  {
   "cell_type": "code",
   "execution_count": 104,
   "metadata": {},
   "outputs": [
    {
     "name": "stdout",
     "output_type": "stream",
     "text": [
      "Number of digits in the 5th element: 1\n",
      "Number of digits in the 100th element: 2\n"
     ]
    }
   ],
   "source": [
    "element_5_digits = len(str(abs(X[4])))\n",
    "element_100_digits = len(str(abs(X[99])))\n",
    "\n",
    "print(f\"Number of digits in the 5th element: {element_5_digits}\")\n",
    "print(f\"Number of digits in the 100th element: {element_100_digits}\")"
   ]
  },
  {
   "cell_type": "markdown",
   "metadata": {},
   "source": [
    "**4**: Is the sum total of all the numbers in the list even or odd?"
   ]
  },
  {
   "cell_type": "code",
   "execution_count": 105,
   "metadata": {},
   "outputs": [
    {
     "name": "stdout",
     "output_type": "stream",
     "text": [
      "The sum is even\n"
     ]
    }
   ],
   "source": [
    "# Initializing the sum variable\n",
    "sum = 0\n",
    "\n",
    "for value in X:\n",
    "    sum += value\n",
    "    \n",
    "# Checking if the sum is even or odd\n",
    "if sum % 2 == 0:\n",
    "    print(\"The sum is even\")\n",
    "else:\n",
    "    print(\"The sum is odd\")"
   ]
  },
  {
   "cell_type": "markdown",
   "metadata": {},
   "source": [
    "**5**: What is the average of the list X?"
   ]
  },
  {
   "cell_type": "code",
   "execution_count": 106,
   "metadata": {},
   "outputs": [
    {
     "name": "stdout",
     "output_type": "stream",
     "text": [
      "The average is: 1.58\n"
     ]
    }
   ],
   "source": [
    "avg = sum / len(X)\n",
    "print(f\"The average is: {avg}\")"
   ]
  },
  {
   "cell_type": "markdown",
   "metadata": {},
   "source": [
    "**5.1.** What is the population standard deviation? <br>"
   ]
  },
  {
   "cell_type": "code",
   "execution_count": 109,
   "metadata": {},
   "outputs": [
    {
     "name": "stdout",
     "output_type": "stream",
     "text": [
      "The standard deviation is: 55.13915912205108\n"
     ]
    }
   ],
   "source": [
    "squared_sum = 0\n",
    "\n",
    "for value in X:\n",
    "    squared_sum += (value - avg) ** 2\n",
    "    \n",
    "# Calculating the standard deviation\n",
    "sd = (squared_sum / (len(X) - 1)) ** (1 / 2)\n",
    "print(f\"The standard deviation is: {sd}\")"
   ]
  },
  {
   "cell_type": "markdown",
   "metadata": {},
   "source": [
    "**6**: Sort list X in descending order and store the result in variable Xsort. <br>"
   ]
  },
  {
   "cell_type": "code",
   "execution_count": 110,
   "metadata": {},
   "outputs": [
    {
     "name": "stdout",
     "output_type": "stream",
     "text": [
      "[99, 96, 90, 89, 88, 86, 85, 84, 83, 78, 74, 71, 70, 66, 66, 61, 61, 61, 60, 60, 56, 56, 55, 55, 54, 50, 46, 45, 44, 42, 39, 33, 31, 27, 27, 26, 25, 23, 21, 20, 20, 19, 18, 16, 16, 14, 10, 10, 8, 6, 5, 3, -1, -3, -3, -7, -9, -10, -13, -15, -21, -21, -21, -22, -25, -26, -26, -28, -38, -39, -41, -41, -43, -43, -46, -47, -47, -52, -54, -55, -55, -55, -56, -58, -58, -63, -64, -68, -72, -75, -77, -77, -81, -82, -86, -87, -88, -96, -96, -99]\n"
     ]
    }
   ],
   "source": [
    "Xsort = sorted(X, reverse=True)\n",
    "print(Xsort)"
   ]
  },
  {
   "cell_type": "markdown",
   "metadata": {},
   "source": [
    "**6.1** Then replace each value in Xsort with index i as the sum of the values with index i-1 and i. <br> \n",
    "\n",
    "*Note: Per definition consider that Xsort[-1] = 0.*"
   ]
  },
  {
   "cell_type": "markdown",
   "metadata": {},
   "source": [
    "# É suposto valor antigo ser X[i - 1] atualizado ou o X[i - 1] antigo?"
   ]
  },
  {
   "cell_type": "code",
   "execution_count": 111,
   "metadata": {},
   "outputs": [
    {
     "name": "stdout",
     "output_type": "stream",
     "text": [
      "[198, 195, 186, 179, 177, 174, 171, 169, 167, 161, 152, 145, 141, 136, 132, 127, 122, 122, 121, 120, 116, 112, 111, 110, 109, 104, 96, 91, 89, 86, 81, 72, 64, 58, 54, 53, 51, 48, 44, 41, 40, 39, 37, 34, 32, 30, 24, 20, 18, 14, 11, 8, 2, -4, -6, -10, -16, -19, -23, -28, -36, -42, -42, -43, -47, -51, -52, -54, -66, -77, -80, -82, -84, -86, -89, -93, -94, -99, -106, -109, -110, -110, -111, -114, -116, -121, -127, -132, -140, -147, -152, -154, -158, -163, -168, -173, -175, -184, -192, -195]\n"
     ]
    }
   ],
   "source": [
    "from copy import copy\n",
    "\n",
    "# Making a copy of the contents inside of the Xsort list\n",
    "Xsort_copy = copy(Xsort)\n",
    "\n",
    "for i in range(len(Xsort)):\n",
    "    if i == 0: # Means we are handling with the first element\n",
    "        Xsort[i] = Xsort[i] + Xsort_copy[0]\n",
    "    else:\n",
    "        Xsort[i] = Xsort[i] + Xsort_copy[i - 1]\n",
    "        \n",
    "print(Xsort)"
   ]
  },
  {
   "cell_type": "markdown",
   "metadata": {},
   "source": [
    "## Exercise II - we have a gamer in the room\n",
    "\n",
    "**7**: Consider the dictionaries  *purchases* and *clients* that are declared in the cell below. <br>\n",
    "Create a list with the names of the clients who bought more than one videogame. Print the List. <br>"
   ]
  },
  {
   "cell_type": "code",
   "execution_count": 112,
   "metadata": {},
   "outputs": [],
   "source": [
    "purchases = {\n",
    "    \n",
    "    \"1539\":\"Red dead redemption II\",\n",
    "    \"9843\":\"GTA V,FarCry 5, watchdogs II\",\n",
    "    \"8472\":\"Canis Canem Edit\",\n",
    "    \"3874\":\"Watchdogs II,South Park: The Stick of Truth\",\n",
    "    \"5783\":\"AC: The Ezio Collection, watchdogs ii\",\n",
    "    \"9823\":\"For Honor,The Forest,South Park: The Fractured but whole\"\n",
    "    \n",
    "}"
   ]
  },
  {
   "cell_type": "code",
   "execution_count": 113,
   "metadata": {},
   "outputs": [],
   "source": [
    "clients = {\n",
    "    \n",
    "    \"1539\":\"Rick Sanchez\",\n",
    "    \"9843\":\"Morty Smith\",\n",
    "    \"8472\":\"Eve Polastri\",\n",
    "    \"3874\":\"Mildred Ratched\",\n",
    "    \"5783\":\"Alex Vause\",\n",
    "    \"9823\":\"Sheldon Cooper\"\n",
    "    \n",
    "}"
   ]
  },
  {
   "cell_type": "code",
   "execution_count": 114,
   "metadata": {},
   "outputs": [
    {
     "name": "stdout",
     "output_type": "stream",
     "text": [
      "['Morty Smith', 'Mildred Ratched', 'Alex Vause', 'Sheldon Cooper']\n"
     ]
    }
   ],
   "source": [
    "# Initializing the list that will store the names of the clients who bought more than onde videogame\n",
    "names_list = []\n",
    "\n",
    "for id, name in clients.items():\n",
    "    games_list = purchases[id].split(\",\") # This is a list where each element is the name of a purchased videogame\n",
    "    games_purchased = len(games_list) # Number of videogames purchased\n",
    "    \n",
    "    if games_purchased > 1:\n",
    "        names_list.append(name)\n",
    "        \n",
    "print(names_list)"
   ]
  },
  {
   "cell_type": "markdown",
   "metadata": {},
   "source": [
    "**7.1** What is the name of the client that bought more videogames?\n",
    "\n",
    "*Tip: You will want to check the methods associated with string manipulation. See the link: <br>\n",
    "https://python-reference.readthedocs.io/en/latest/docs/unicode/index.html*"
   ]
  },
  {
   "cell_type": "code",
   "execution_count": 115,
   "metadata": {},
   "outputs": [
    {
     "name": "stdout",
     "output_type": "stream",
     "text": [
      "['Morty Smith', 'Sheldon Cooper']\n"
     ]
    }
   ],
   "source": [
    "clients_dict = {} # Ex: {\"client_name\": number_of_games_purchased}\n",
    "clients_list = [] # List that will contain the names of the top clients\n",
    "\n",
    "for id, name in clients.items():\n",
    "    games_list = purchases[id].split(\",\")\n",
    "    games_purchased = len(games_list)\n",
    "    clients_dict[name] = games_purchased # Storing the number of games purchased by the client wich name is \"name\"\n",
    "\n",
    "max_games = max(clients_dict.values()) # Number of most videogames bought by one client\n",
    "\n",
    "for name, games_purch in clients_dict.items():\n",
    "    if games_purch == max_games:\n",
    "        clients_list.append(name)\n",
    "\n",
    "print(clients_list)"
   ]
  },
  {
   "cell_type": "markdown",
   "metadata": {},
   "source": [
    "**7.2** What is the name of the most popular videogame?"
   ]
  },
  {
   "cell_type": "code",
   "execution_count": 123,
   "metadata": {},
   "outputs": [
    {
     "name": "stdout",
     "output_type": "stream",
     "text": [
      "red dead redemption ii was bought 1 times\n",
      "gta v was bought 1 times\n",
      "farcry 5 was bought 1 times\n",
      "watchdogs ii was bought 3 times\n",
      "canis canem edit was bought 1 times\n",
      "south park: the stick of truth was bought 1 times\n",
      "ac: the ezio collection was bought 1 times\n",
      "for honor was bought 1 times\n",
      "the forest was bought 1 times\n",
      "south park: the fractured but whole was bought 1 times\n",
      "\n",
      "The most popular game was: watchdogs ii\n"
     ]
    }
   ],
   "source": [
    "videogames_dict = {} # Ex: {\"name_of_the_game\": \"times_it_was_bought\"}\n",
    "\n",
    "for id, purchase in purchases.items():\n",
    "    purchase = purchase\n",
    "    videogames_names = purchase.split(\",\")\n",
    "    # Formating the videogames names to avoid errors in the search\n",
    "    for i, name in enumerate(videogames_names):\n",
    "        videogames_names[i] = name.lower().strip()\n",
    "        \n",
    "    for videogame_name in videogames_names:\n",
    "        if videogame_name in videogames_dict.keys():\n",
    "            videogames_dict[videogame_name] += 1\n",
    "        else:\n",
    "            videogames_dict[videogame_name] = 1\n",
    "for name, times_bought in videogames_dict.items():\n",
    "    print(f\"{name} was bought {times_bought} times\")\n",
    "    \n",
    "print()\n",
    "print(f\"The most popular game was: {max(videogames_dict)}\")\n",
    "    "
   ]
  },
  {
   "cell_type": "markdown",
   "metadata": {},
   "source": [
    "# <span style=\"color:brown\"> Part 2 -  Data loading and analysis  </span>\n",
    "\n",
    "## Exercise I - Alice what do you have to say?\n",
    "\n",
    "**8**: Load the Alice text file into a variable called Alice. <br>\n",
    "\n",
    "*Note: Use a relative filepath in relation to the location of your notebook.*"
   ]
  },
  {
   "cell_type": "code",
   "execution_count": 1,
   "metadata": {},
   "outputs": [
    {
     "name": "stdout",
     "output_type": "stream",
     "text": [
      "Alice was beginning to get very tired of sitting by her sister on the bank, and of having nothing to do: once or twice she had peeped into the book her sister was reading, but it had no pictures or conversations in it, <<and what is the use of a book>>. thought Alice <<without pictures or conversation?>>.\n"
     ]
    }
   ],
   "source": [
    "with open(\"alice.txt\", 'r') as file:\n",
    "        Alice = file.read()\n",
    "print(Alice)"
   ]
  },
  {
   "cell_type": "markdown",
   "metadata": {},
   "source": [
    "**9**: Create a list in which each element is a word from the file *Alice*. Store that list in a variable called *wAlice*. <br>\n",
    "\n",
    "*Note: You will need to do some text parsing here. In particular to split the sentences into words. It is also a good practice to normalize words so that words \"Hello\" and \"hello\" become identical, by making all letters lower case. <br>*\n",
    "\n",
    "*Tip: check the following links for a discussion on regular expressions. Also consult the methods available for string manipulation.*\n",
    "\n",
    "https://docs.python.org/3/library/re.html\n",
    "\n",
    "https://stackoverflow.com/questions/1276764/stripping-everything-but-alphanumeric-chars-from-a-string-in-python"
   ]
  },
  {
   "cell_type": "code",
   "execution_count": 28,
   "metadata": {},
   "outputs": [
    {
     "name": "stdout",
     "output_type": "stream",
     "text": [
      "alice\n",
      "was\n",
      "beginning\n",
      "to\n",
      "get\n",
      "very\n",
      "tired\n",
      "of\n",
      "sitting\n",
      "by\n",
      "her\n",
      "sister\n",
      "on\n",
      "the\n",
      "bank\n",
      "and\n",
      "of\n",
      "having\n",
      "nothing\n",
      "to\n",
      "do\n",
      "once\n",
      "or\n",
      "twice\n",
      "she\n",
      "had\n",
      "peeped\n",
      "into\n",
      "the\n",
      "book\n",
      "her\n",
      "sister\n",
      "was\n",
      "reading\n",
      "but\n",
      "it\n",
      "had\n",
      "no\n",
      "pictures\n",
      "or\n",
      "conversations\n",
      "in\n",
      "it\n",
      "and\n",
      "what\n",
      "is\n",
      "the\n",
      "use\n",
      "of\n",
      "a\n",
      "book\n",
      "thought\n",
      "alice\n",
      "without\n",
      "pictures\n",
      "or\n",
      "conversation\n",
      "['alice', 'was', 'beginning', 'to', 'get', 'very', 'tired', 'of', 'sitting', 'by', 'her', 'sister', 'on', 'the', 'bank', 'and', 'of', 'having', 'nothing', 'to', 'do', 'once', 'or', 'twice', 'she', 'had', 'peeped', 'into', 'the', 'book', 'her', 'sister', 'was', 'reading', 'but', 'it', 'had', 'no', 'pictures', 'or', 'conversations', 'in', 'it', 'and', 'what', 'is', 'the', 'use', 'of', 'a', 'book', 'thought', 'alice', 'without', 'pictures', 'or', 'conversation']\n"
     ]
    }
   ],
   "source": [
    "import re\n",
    "\n",
    "wAlice = re.findall(r'\\w+', Alice) # \\w+ searches for all sequences of alphanumeric characters\n",
    "\n",
    "for i, word in enumerate(wAlice):\n",
    "    wAlice[i] = word.lower()\n",
    "    print(wAlice[i])\n",
    "print(wAlice)"
   ]
  },
  {
   "cell_type": "markdown",
   "metadata": {},
   "source": [
    "##### Using the list *wAlice* answer the following questions:<br>\n",
    "**10**: How many words are in the file Alice.txt? <br>"
   ]
  },
  {
   "cell_type": "code",
   "execution_count": 29,
   "metadata": {},
   "outputs": [
    {
     "name": "stdout",
     "output_type": "stream",
     "text": [
      "There are 57 words in Alice.txt\n"
     ]
    }
   ],
   "source": [
    "word_counter = len(wAlice)\n",
    "print(f\"There are {word_counter} words in Alice.txt\")"
   ]
  },
  {
   "cell_type": "markdown",
   "metadata": {},
   "source": [
    "**11**: What is the longest and smallest word in the text file?\n",
    "\n",
    "*Note: Length in this case is measured in terms of the number of characters.*"
   ]
  },
  {
   "cell_type": "code",
   "execution_count": 34,
   "metadata": {},
   "outputs": [
    {
     "name": "stdout",
     "output_type": "stream",
     "text": [
      "The biggest word is: conversations\n",
      "The smallest word is: a\n"
     ]
    }
   ],
   "source": [
    "biggest = 0\n",
    "biggest_word = \"\"\n",
    "smallest = 9e99\n",
    "smallest_word = \"\"\n",
    "\n",
    "for word in wAlice:\n",
    "    character_counter = 0\n",
    "    for character in word:\n",
    "        character_counter += 1\n",
    "    if character_counter > biggest:\n",
    "        biggest_word = word\n",
    "        biggest = character_counter\n",
    "    if character_counter < smallest:\n",
    "        smallest_word = word\n",
    "        smallest = character_counter\n",
    "\n",
    "print(f\"The biggest word is: {biggest_word}\")\n",
    "print(f\"The smallest word is: {smallest_word}\")\n"
   ]
  },
  {
   "cell_type": "markdown",
   "metadata": {},
   "source": [
    "**12**: Delete all the repeated words from *wAlice*. "
   ]
  },
  {
   "cell_type": "code",
   "execution_count": 39,
   "metadata": {},
   "outputs": [
    {
     "name": "stdout",
     "output_type": "stream",
     "text": [
      "['pictures', 'beginning', 'had', 'twice', 'conversations', 'in', 'nothing', 'sitting', 'and', 'a', 'get', 'to', 'conversation', 'she', 'sister', 'very', 'what', 'no', 'into', 'without', 'but', 'book', 'by', 'use', 'on', 'the', 'peeped', 'is', 'reading', 'it', 'thought', 'was', 'her', 'tired', 'of', 'alice', 'bank', 'do', 'or', 'having', 'once']\n"
     ]
    }
   ],
   "source": [
    "wAlice = list(set(wAlice))\n",
    "print(wAlice)"
   ]
  },
  {
   "cell_type": "markdown",
   "metadata": {},
   "source": [
    "**12.1**:How many different words does the text contain?"
   ]
  },
  {
   "cell_type": "code",
   "execution_count": 40,
   "metadata": {},
   "outputs": [
    {
     "name": "stdout",
     "output_type": "stream",
     "text": [
      "The text contains 41 different words\n"
     ]
    }
   ],
   "source": [
    "print(f\"The text contains {len(wAlice)} different words\")"
   ]
  },
  {
   "cell_type": "markdown",
   "metadata": {},
   "source": [
    "## Exercise II - of Countries I Love\n",
    "\n",
    "Consider the list countries in the cell below. <br>\n",
    "It consists of a list of the 3-digit ISO codes of a set of countries of interest."
   ]
  },
  {
   "cell_type": "code",
   "execution_count": 41,
   "metadata": {},
   "outputs": [],
   "source": [
    "countries = [\n",
    "\n",
    "('PRT','Portugal','Europe'),\n",
    "('ISL','Israel','Asia'),\n",
    "('COL','Colombia','South America'),\n",
    "('NEV','Nevada','North America'),\n",
    "('JPN','Japan','Asia'),\n",
    "('RUS','Russia','well... which part?'),\n",
    "('DEN','Denmark','Europe'),\n",
    "('NOR','Norway','Europe')\n",
    "    \n",
    "]"
   ]
  },
  {
   "cell_type": "markdown",
   "metadata": {},
   "source": [
    "**Now consider the file *cdata.csv* that you should download.** <br>\n",
    "\n",
    "The file contains several information about countries, and is organized as follows:\n",
    "1. Column 1 is the 3-digit **ISO Code**\n",
    "2. Column 2 is the **Full Name** of the country\n",
    "3. Column 3 is the **Continent** of the country\n",
    "4. Column 4 is the **Population Size** in 2010\n",
    "5. Column 5 is the **GDP per capita** in 2010"
   ]
  },
  {
   "cell_type": "markdown",
   "metadata": {},
   "source": [
    "**13**: Using the Library CSV from Python STL, load the file *cdata.csv* into an object called *raw*. "
   ]
  },
  {
   "cell_type": "code",
   "execution_count": 49,
   "metadata": {},
   "outputs": [
    {
     "name": "stdout",
     "output_type": "stream",
     "text": [
      "{'iso': 'ago', 'countryname': 'Angola', 'continent': 'Africa', 'population(mil)': '23.369131088256836', 'gdp': '5988.534997149481'}\n"
     ]
    }
   ],
   "source": [
    "import csv\n",
    "\n",
    "csv_file_path = 'cdata.csv'\n",
    "raw = []\n",
    "with open(csv_file_path, newline='') as csvfile:\n",
    "    csv_reader = csv.DictReader(csvfile)\n",
    "    for row in csv_reader:\n",
    "        raw.append(row)\n",
    "print(raw[0])"
   ]
  },
  {
   "cell_type": "markdown",
   "metadata": {},
   "source": [
    "**13.1**: Create a dictionary called *cData* in which the key corresponds to the 3-digit ISO Code and the value is a tuple with the information contained in the 2nd to the 5th of column of the cdata file."
   ]
  },
  {
   "cell_type": "code",
   "execution_count": 57,
   "metadata": {},
   "outputs": [
    {
     "name": "stdout",
     "output_type": "stream",
     "text": [
      "{'ago': ('Angola', 'Africa', '23.369131088256836', '5988.534997149481'), 'bdi': ('Burundi', 'Africa', '8.766929626464844', '731.4232803265862'), 'ben': ('Benin', 'Africa', '9.199258804321289', '1919.9969479963038'), 'bfa': ('Burkina Faso', 'Africa', '15.605216979980469', '1327.2165314775982'), 'bwa': ('Botswana', 'Africa', '2.0148661136627197', '12256.14159052444'), 'caf': ('Central African Republic', 'Africa', '4.4485249519348145', '865.4421867263901'), 'cmr': ('Cameroon', 'Africa', '19.970495223999023', '2684.972890247272'), 'cod': ('Democratic Republic of the Congo', 'Africa', '64.52326202392578', '634.9713963013496'), 'cog': ('Republic of the Congo', 'Africa', '4.386693000793457', '4979.990496069269'), 'com': ('Comoros', 'Africa', '0.6896920204162598', '2292.997969425929'), 'cpv': ('Cape Verde', 'Africa', '0.5023840069770813', '5644.821253339075'), 'dji': ('Djibouti', 'Africa', '0.8511459827423096', '2124.4420625972525'), 'dza': ('Algeria', 'Africa', '36.117637634277344', '12590.224223813591'), 'egy': ('Egypt', 'Africa', '84.10760498046875', '9148.839753298033'), 'eth': ('Ethiopia', 'Africa', '87.70266723632812', '1100.1831875876223'), 'gab': ('Gabon', 'Africa', '1.6402100324630737', '11961.168226448879'), 'gha': ('Ghana', 'Africa', '24.512104034423828', '3931.2918319728856'), 'gin': ('Guinea', 'Africa', '10.794170379638672', '1742.7346742167783'), 'gmb': ('Gambia', 'Africa', '1.692149043083191', '2681.8586168502143'), 'gnb': ('Guinea-Bissau', 'Africa', '1.5558799505233765', '1387.2497310879905'), 'gnq': ('Equatorial Guinea', 'Africa', '0.9511039853096008', '31416.887137501908'), 'ken': ('Kenya', 'Africa', '41.35015106201172', '2484.0349094725366'), 'lbr': ('Liberia', 'Africa', '3.948124885559082', '786.6702306741524'), 'lso': ('Lesotho', 'Africa', '2.040550947189331', '2432.7976546880823'), 'mar': ('Morocco', 'Africa', '32.409637451171875', '6421.937677907418'), 'mdg': ('Madagascar', 'Africa', '21.151639938354492', '1459.9156124535612'), 'mli': ('Mali', 'Africa', '15.075084686279297', '1873.2809618195865'), 'moz': ('Mozambique', 'Africa', '24.221405029296875', '969.2307622526259'), 'mrt': ('Mauritania', 'Africa', '3.6095430850982666', '3082.647028528842'), 'mus': ('Mauritius', 'Africa', '1.2479549646377563', '15178.325920597827'), 'mwi': ('Malawi', 'Africa', '15.167095184326172', '972.0456815116237'), 'nam': ('Namibia', 'Africa', '2.1731700897216797', '7689.171239820006'), 'ner': ('Niger', 'Africa', '16.42557716369629', '845.8693682212395'), 'nga': ('Nigeria', 'Africa', '158.57826232910156', '5186.304307542348'), 'rwa': ('Rwanda', 'Africa', '10.246842384338379', '1379.6993252327009'), 'sdn': ('Sudan', 'Africa', '34.385963439941406', '3608.7856176907358'), 'sen': ('Senegal', 'Africa', '12.916229248046875', '2741.121456198507'), 'sle': ('Sierra Leone', 'Africa', '6.4587202072143555', '1161.8796942144647'), 'swz': ('Swaziland', 'Africa', '1.2028429508209229', '7042.524359035093'), 'syc': ('Seychelles', 'Africa', '0.0914049968123436', '17960.353075613308'), 'tcd': ('Chad', 'Africa', '11.887202262878418', '1880.3748762799714'), 'tgo': ('Togo', 'Africa', '6.5029520988464355', '1222.8150529133295'), 'tun': ('Tunisia', 'Africa', '10.639930725097656', '10647.834980284626'), 'tza': ('Tanzania', 'Africa', '44.82893753051758', '1979.1718644815185'), 'uga': ('Uganda', 'Africa', '33.91513442993164', '1723.5943355766267'), 'zaf': ('South Africa', 'Africa', '51.58466339111328', '11388.640515995063'), 'zmb': ('Zambia', 'Africa', '13.850032806396484', '2870.8872656342314'), 'zwe': ('Zimbabwe', 'Africa', '14.08631706237793', '1479.0305839163732'), 'are': ('United Arab Emirates', 'Asia', '8.270684242248535', '59707.412565389604'), 'arm': ('Armenia', 'Asia', '2.8773109912872314', '8222.945234202914'), 'aze': ('Azerbaijan', 'Asia', '9.03245735168457', '12947.102198682365'), 'bgd': ('Bangladesh', 'Asia', '152.14910888671875', '2411.1020691099325'), 'bhr': ('Bahrain', 'Asia', '1.2408620119094849', '37045.81310919623'), 'brn': ('Brunei', 'Asia', '0.3886620104312897', '67320.89957245934'), 'btn': ('Bhutan', 'Asia', '0.7276409864425659', '7235.18974818538'), 'chn': ('China', 'Asia', '1359.755126953125', '9337.290772677254'), 'cyp': ('Cyprus', 'Asia', '0.829446017742157', '28046.373877741087'), 'geo': ('Georgia', 'Asia', '4.231660842895508', '7966.602756952667'), 'hkg': ('Hong Kong', 'Asia', '7.02522087097168', '41687.946418899235'), 'ind': ('India', 'Asia', '1230.980712890625', '4357.0597360582315'), 'irn': ('Iran', 'Asia', '74.56751251220703', '17328.457882894658'), 'irq': ('Iraq', 'Asia', '30.7627010345459', '9344.543768350652'), 'isr': ('Israel', 'Asia', '7.42595911026001', '28638.9037385305'), 'jor': ('Jordan', 'Asia', '7.182390213012695', '9351.387283068141'), 'jpn': ('Japan', 'Asia', '128.5518798828125', '36595.63364058582'), 'kaz': ('Kazakhstan', 'Asia', '16.398975372314453', '17908.83993251286'), 'kgz': ('Kyrgyzstan', 'Asia', '5.422337055206299', '3382.4639059259293'), 'khm': ('Cambodia', 'Asia', '14.30873966217041', '2330.127207632253'), 'kor': ('South Korea', 'Asia', '49.5528564453125', '31589.705161145695'), 'kwt': ('Kuwait', 'Asia', '2.9980831146240234', '67029.51680017101'), 'lao': ('Laos', 'Asia', '6.246273994445801', '4316.969858587265'), 'lbn': ('Lebanon', 'Asia', '4.337141036987305', '18025.24893894264'), 'lka': ('Sri Lanka', 'Asia', '20.198352813720703', '8390.429701766443'), 'mac': ('Macau', 'Asia', '0.536969006061554', '91982.39517540816'), 'mdv': ('Maldives', 'Asia', '0.36451101303100586', '12140.803390739566'), 'mmr': ('Burma', 'Asia', '50.1558952331543', '3422.241340266976'), 'mng': ('Mongolia', 'Asia', '2.7126500606536865', '7670.714034382584'), 'mys': ('Malaysia', 'Asia', '28.112289428710938', '17913.164410782432'), 'npl': ('Nepal', 'Asia', '27.023136138916016', '1996.1961554516242'), 'omn': ('Oman', 'Asia', '3.0414600372314453', '40472.674942509126'), 'pak': ('Pakistan', 'Asia', '170.5601806640625', '4171.416562353057'), 'phl': ('Philippines', 'Asia', '93.72662353515625', '5391.233965240031'), 'qat': ('Qatar', 'Asia', '1.7796759605407715', '123128.40152283433'), 'sau': ('Saudi Arabia', 'Asia', '27.425676345825195', '42331.65885721999'), 'sgp': ('Singapore', 'Asia', '5.074252128601074', '58618.43503468222'), 'syr': ('Syria', 'Asia', '21.01883316040039', '5700.329438992399'), 'tha': ('Thailand', 'Asia', '67.20880889892578', '12496.244186726299'), 'tjk': ('Tajikistan', 'Asia', '7.641630172729492', '2784.5145587763627'), 'tkm': ('Turkmenistan', 'Asia', '5.087210178375244', '16061.429412691556'), 'tur': ('Turkey', 'Asia', '72.32691192626953', '17930.678781392427'), 'twn': ('Taiwan', 'Asia', '23.140947341918945', '37188.89452901009'), 'uzb': ('Uzbekistan', 'Asia', '28.606294631958008', '6574.51672506692'), 'vnm': ('Vietnam', 'Asia', '88.4725112915039', '4428.42140209062'), 'yem': ('Yemen', 'Asia', '23.606779098510742', '4553.557258443674'), 'alb': ('Albania', 'Europe', '2.9405250549316406', '9544.73991912729'), 'aut': ('Austria', 'Europe', '8.40994930267334', '40489.80635849457'), 'bel': ('Belgium', 'Europe', '10.938738822937012', '38177.94724875522'), 'bgr': ('Bulgaria', 'Europe', '7.404590129852295', '14906.784964031736'), 'bih': ('Bosnia and Herzegovina', 'Europe', '3.7220840454101562', '9049.364732987471'), 'blr': ('Belarus', 'Europe', '9.473071098327637', '16457.02937904922'), 'che': ('Switzerland', 'Europe', '7.831971168518066', '55688.020214268225'), 'cze': ('Czech Republic', 'Europe', '10.536286354064941', '26129.56935189834'), 'deu': ('Germany', 'Europe', '80.89478302001953', '40627.23054942445'), 'dnk': ('Denmark', 'Europe', '5.554843902587891', '43416.22338615916'), 'esp': ('Spain', 'Europe', '46.788631439208984', '31610.980157042286'), 'est': ('Estonia', 'Europe', '1.3321019411087036', '20265.572596704937'), 'fin': ('Finland', 'Europe', '5.365781784057617', '38394.06158150017'), 'fra': ('France', 'Europe', '65.14578247070312', '35786.16161450548'), 'gbr': ('United Kingdom', 'Europe', '63.30684280395508', '34810.28120173958'), 'grc': ('Greece', 'Europe', '11.446004867553711', '25815.80076797162'), 'hrv': ('Croatia', 'Europe', '4.328153133392334', '19305.008088868373'), 'hun': ('Hungary', 'Europe', '9.927840232849121', '20477.79856764035'), 'irl': ('Ireland', 'Europe', '4.626927852630615', '47823.50815113634'), 'isl': ('Iceland', 'Europe', '0.3203279972076416', '37729.01607603124'), 'ita': ('Italy', 'Europe', '59.72980880737305', '34727.67268834705'), 'ltu': ('Lithuania', 'Europe', '3.123802900314331', '18475.371145517096'), 'lux': ('Luxembourg', 'Europe', '0.5078889727592468', '57882.81020537233'), 'lva': ('Latvia', 'Europe', '2.1188480854034424', '16943.688322829523'), 'mda': ('Moldova', 'Europe', '4.0844807624816895', '4173.634753274572'), 'mkd': ('Macedonia', 'Europe', '2.0707390308380127', '11265.643175619889'), 'mlt': ('Malta', 'Europe', '0.41611000895500183', '22983.44992639125'), 'mne': ('Montenegro', 'Europe', '0.6242849826812744', '14960.94855221103'), 'nld': ('Netherlands', 'Europe', '16.68291664123535', '44004.146024770846'), 'nor': ('Norway', 'Europe', '4.885878086090088', '73262.68174170727'), 'pol': ('Poland', 'Europe', '38.323402404785156', '21006.027309294514'), 'prt': ('Portugal', 'Europe', '10.652320861816406', '25788.2739652247'), 'rou': ('Romania', 'Europe', '20.44034767150879', '16775.609043478133'), 'rus': ('Russia', 'Asia', '143.15386962890625', '21754.067899615977'), 'srb': ('Serbia', 'Europe', '7.291436195373535', '12453.482551916944'), 'svk': ('Slovakia', 'Europe', '5.404294013977051', '23061.12099058148'), 'svn': ('Slovenia', 'Europe', '2.045167922973633', '25831.33128718208'), 'swe': ('Sweden', 'Europe', '9.390168190002441', '40421.906436576974'), 'ukr': ('Ukraine', 'Europe', '45.79249954223633', '8713.259627419637'), 'abw': ('Aruba', 'NorthAmerica', '0.10166899859905243', '37059.34143869512'), 'aia': ('Anguilla', 'NorthAmerica', '0.013768999837338924', '21098.057152999143'), 'atg': ('Antigua and Barbuda', 'NorthAmerica', '0.09466099739074707', '17162.16102781353'), 'bhs': ('Bahamas', 'NorthAmerica', '0.36083200573921204', '29504.581346144332'), 'blz': ('Belize', 'NorthAmerica', '0.3216080069541931', '7145.952547655193'), 'bmu': ('Bermuda', 'NorthAmerica', '0.06395599991083145', '51447.147481910884'), 'brb': ('Barbados', 'NorthAmerica', '0.27956900000572205', '13995.612896540895'), 'can': ('Canada', 'NorthAmerica', '34.16866683959961', '40269.03526728651'), 'cri': ('Costa Rica', 'NorthAmerica', '4.5452799797058105', '12106.99191566891'), 'cuw': ('CuraÃ§ao', 'NorthAmerica', '0.14760799705982208', '24337.816177887613'), 'cym': ('Cayman Islands', 'NorthAmerica', '0.05550700053572655', '36670.678481483985'), 'dma': ('Dominica', 'NorthAmerica', '0.07143999636173248', '9101.993729581038'), 'dom': ('Dominican Republic', 'NorthAmerica', '9.897985458374023', '11500.13134401987'), 'grd': ('Grenada', 'NorthAmerica', '0.1046769991517067', '9791.291133092265'), 'gtm': ('Guatemala', 'NorthAmerica', '14.630416870117188', '6359.262684615136'), 'hnd': ('Honduras', 'NorthAmerica', '8.194778442382812', '3789.9102248753848'), 'hti': ('Haiti', 'NorthAmerica', '9.999616622924805', '1650.2697128700804'), 'jam': ('Jamaica', 'NorthAmerica', '2.8172099590301514', '6675.176956450172'), 'kna': ('Saint Kitts and Nevis', 'NorthAmerica', '0.05144499987363815', '17837.349758162076'), 'lca': ('Saint Lucia', 'NorthAmerica', '0.17258000373840332', '9178.266990673521'), 'mex': ('Mexico', 'NorthAmerica', '117.31893920898438', '14507.011923865603'), 'msr': ('Montserrat', 'NorthAmerica', '0.00494399992749095', '15385.002991478228'), 'nic': ('Nicaragua', 'NorthAmerica', '5.737722873687744', '3992.7619078961748'), 'pan': ('Panama', 'NorthAmerica', '3.6432220935821533', '15055.237591848218'), 'slv': ('El Salvador', 'NorthAmerica', '6.164626121520996', '6096.958357099287'), 'tca': ('Turks and Caicos Islands', 'NorthAmerica', '0.030993999913334846', '7230.966074605446'), 'tto': ('Trinidad and Tobago', 'NorthAmerica', '1.3280999660491943', '27510.236190041924'), 'usa': ('United States', 'NorthAmerica', '308.6413879394531', '49500.62628346238'), 'vct': ('Saint Vincent and the Grenadines', 'NorthAmerica', '0.10931500047445297', '8095.21923068351'), 'vgb': ('British Virgin Islands', 'NorthAmerica', '0.027224000543355942', '21183.279165646647'), 'aus': ('Australia', 'Oceania', '22.12006378173828', '44854.90004866657'), 'fji': ('Fiji', 'Oceania', '0.8599500060081482', '6902.0687720944225'), 'nzl': ('New Zealand', 'Oceania', '4.370061874389648', '30867.05437525178'), 'arg': ('Argentina', 'SouthAmerica', '41.2238883972168', '15841.658208158999'), 'bol': ('Bolivia', 'SouthAmerica', '9.918242454528809', '4806.608983377068'), 'bra': ('Brazil', 'SouthAmerica', '196.7962646484375', '13541.462561602328'), 'chl': ('Chile', 'SouthAmerica', '16.99335479736328', '18092.94007371081')}\n"
     ]
    }
   ],
   "source": [
    "cData = {}\n",
    "keys_list = [\"countryname\", \"continent\", \"population(mil)\", \"gdp\"]\n",
    "for raw_dict in raw:\n",
    "    values_list = []\n",
    "    for key_name in keys_list:\n",
    "        values_list.append(raw_dict[key_name])\n",
    "    cData[raw_dict[\"iso\"]] = tuple(values_list)\n",
    "print(cData)"
   ]
  },
  {
   "cell_type": "markdown",
   "metadata": {},
   "source": [
    "**14**: Using *cData*, identify what is the most common Continent among the nations in the list *countries*."
   ]
  },
  {
   "cell_type": "markdown",
   "metadata": {},
   "source": [
    "# A partir daqui está errado nao me lembrei da list countries"
   ]
  },
  {
   "cell_type": "code",
   "execution_count": 66,
   "metadata": {},
   "outputs": [
    {
     "name": "stdout",
     "output_type": "stream",
     "text": [
      "{'Africa': 48, 'Asia': 47, 'Europe': 38, 'NorthAmerica': 30, 'Oceania': 3, 'SouthAmerica': 4}\n"
     ]
    }
   ],
   "source": [
    "continent_dict = {}\n",
    "\n",
    "for key, value in cData.items():\n",
    "    if value[1] in continent_dict.keys():\n",
    "        continent_dict[value[1]] += 1\n",
    "    else:\n",
    "        continent_dict[value[1]] = 1\n",
    "print(continent_dict)"
   ]
  },
  {
   "cell_type": "markdown",
   "metadata": {},
   "source": [
    "**15**: Using *cData*, identify what is the the most populated nation in the list *countries*."
   ]
  },
  {
   "cell_type": "code",
   "execution_count": 75,
   "metadata": {},
   "outputs": [
    {
     "name": "stdout",
     "output_type": "stream",
     "text": [
      "The most populated nation is Chile\n"
     ]
    }
   ],
   "source": [
    "biggest_population = 0\n",
    "biggest_nation = \"\"\n",
    "for key, value in cData.items():\n",
    "    country_name = value[0]\n",
    "    population = value[2]\n",
    "    if float(population) > biggest_population:\n",
    "        biggest_nation = country_name\n",
    "print(F\"The most populated nation is {biggest_nation}\")"
   ]
  },
  {
   "cell_type": "markdown",
   "metadata": {},
   "source": [
    "**16**: Compare the average GDP per capita of the nations in the list *countries* with the average GDP of the countries in cdata file. What can you conclude?"
   ]
  },
  {
   "cell_type": "code",
   "execution_count": null,
   "metadata": {},
   "outputs": [],
   "source": []
  },
  {
   "cell_type": "markdown",
   "metadata": {},
   "source": [
    "# <span style=\"color:brown\"> Part 3 - Functions hurt nobody </span>\n",
    "\n",
    "## Exercise I - I hate math\n",
    "\n",
    "##### Consider the following equation:\n",
    "\n",
    "\\begin{equation}\n",
    "    y = 6x^2 + 3x + 2\n",
    "\\end{equation}\n",
    "\n",
    "**17**: Write a function called *f* that takes one argument, x, and returns y according to the equation above. "
   ]
  },
  {
   "cell_type": "code",
   "execution_count": null,
   "metadata": {},
   "outputs": [],
   "source": []
  },
  {
   "cell_type": "markdown",
   "metadata": {},
   "source": [
    "**17.1**: Call the function for x = 2 and print the answer."
   ]
  },
  {
   "cell_type": "code",
   "execution_count": null,
   "metadata": {},
   "outputs": [],
   "source": []
  },
  {
   "cell_type": "markdown",
   "metadata": {},
   "source": [
    "##### Consider the following sequence of numbers:\n",
    "\n",
    "\\begin{equation}\n",
    "    x_0 = 0; ~~~ ~~~ ~~~ ~~ ~~~ ~~~ ~~~ ~~ ~~~ ~~~ ~~~ ~~ ~~~ ~~~ ~~ ~ \\\\\n",
    "    x_{n} = x_{n-1} - n; ~~~ \\textit{ if} ~~~ x_{n-1}-n > 0 \\\\\n",
    "    x_{n} = x_{n-1} + n; ~~~ \\textit{ otherwise}~~~ ~~~ ~~~ ~~ \\\\\n",
    "\\end{equation}\n",
    "\n",
    "**17.2**: Write a function that returns the nth digit of the above defined sequence. <br>\n",
    "\n",
    "*Note: the above sequence is also known as the Recamán's sequence, and it was invnted by Bernardo Recamán Santos (Bogotá, Colombia)*"
   ]
  },
  {
   "cell_type": "code",
   "execution_count": null,
   "metadata": {},
   "outputs": [],
   "source": []
  },
  {
   "cell_type": "markdown",
   "metadata": {},
   "source": [
    "**17.3** Write a function named isPrime that takes an integer as input and outputs True if the number is prime and False if the number if not prime."
   ]
  },
  {
   "cell_type": "code",
   "execution_count": null,
   "metadata": {},
   "outputs": [],
   "source": []
  },
  {
   "cell_type": "markdown",
   "metadata": {},
   "source": [
    "**17.4** Test your function against some examples to show that it works as expected."
   ]
  },
  {
   "cell_type": "code",
   "execution_count": null,
   "metadata": {},
   "outputs": [],
   "source": []
  },
  {
   "cell_type": "markdown",
   "metadata": {},
   "source": [
    "## Exercise II - Monty Hall Problem\n"
   ]
  },
  {
   "cell_type": "markdown",
   "metadata": {},
   "source": [
    "**18**: The Monty Hall Problem is a probability puzzle loosely based on the American television game show \"Let's Make a Deal\" and named after its original host, Monty Hall. The puzzle can be stated as follows\n",
    "\n",
    "> Suppose you're on a game show, and you're given the choice of three doors: Behind one door is a car; behind the others, goats. You pick a door, say No. 1, and the host, who knows what's behind the doors, opens another door, say No. 3, which has a goat. He then says to you, \"Do you want to pick door No. 2?\" Is it to your advantage to switch your choice? <br>\n",
    "+info: https://en.wikipedia.org/wiki/Monty_Hall_problem\n",
    "\n",
    "While intuitively your guess might be that the chances of winning the car is 1/3 independently of the choice to switch doors or not. Howewver, the odds of winning if you switch doors are 2/3 and greater than if you decide not to switch. While there are theoretical solutions to this problem that allow us to estimate the correct odds of winning in each scenario -- switching or not doors -- an alternative way to proof such outcome is through computer simulations. That is the goal of this exercise, to write the necessary components to simulate the Monty Hall problem and validate the theoretical results through simulations.\n",
    "\n",
    "In this exercise, start by implementing a function that simulates one instance of the Monty Hall problem. \n",
    "In that sense, write a function called MontyHall that accepts **one argument**:\n",
    "- A boolean (True/False, or 1/0) that specifies if the player switches doors or not (after the host has opened his door, which contains a goat).\n",
    "The function should return True if the player wins the car or False if not.\n",
    "\n",
    "Naturally, for the function to reproduce the contest it needs to consider and perform some actions, such as:\n",
    "- Set up the game, that is, create the necessary variables to store the information about three doors and what they have behind, as well as an indicator to track the choice of the player.\n",
    "- Given the initial choice of the player, simulate the opening of one of the two remaining doors that contains a goat.\n",
    "- Given the last two doors left, simulate if the player wants to switch or not his/her choice given their strategy (defined by the input boolean argument of the function).\n",
    "- Output the result, if the contestant correctly guesses which door hides the car or if not.\n",
    "\n",
    "The function MontyHall should simulate one instance of the contest given the choice of the player (to switch or not).\n",
    "\n",
    "**The goal is to understand, statistically, which action leads to the highest probability of winning.** <br>\n",
    "*Note: You should use the library random to solve this exercise.*"
   ]
  },
  {
   "cell_type": "code",
   "execution_count": null,
   "metadata": {},
   "outputs": [],
   "source": []
  },
  {
   "cell_type": "markdown",
   "metadata": {},
   "source": [
    "**18.1** Now that you have a function that simulates an instance of the Monty Hall problem, implement an experiment where you repeat many times (thousands of times) for each of the two possible scenarios: player switching the door, and player not switcing the door. Keep track of the results and estimate the frequencies of wins for each scenario and discuss if the results are inline with the theoretical odds."
   ]
  },
  {
   "cell_type": "code",
   "execution_count": null,
   "metadata": {},
   "outputs": [],
   "source": []
  },
  {
   "cell_type": "markdown",
   "metadata": {},
   "source": [
    "## Exercise III\n",
    "\n",
    "**19**: Consider the list *A*, declared below. <br>\n",
    "Use the function map() to change the values of A by adding 1 to each value if it is even and subtracting 1 to it otherwise."
   ]
  },
  {
   "cell_type": "code",
   "execution_count": null,
   "metadata": {},
   "outputs": [],
   "source": [
    "A = [460,3347,3044,490,699,1258,1804,973,2223,3416,2879,1058,2915,2422,351,1543,1020,208,643,795,3337,2585,471,2623,1077]"
   ]
  },
  {
   "cell_type": "code",
   "execution_count": null,
   "metadata": {},
   "outputs": [],
   "source": []
  },
  {
   "cell_type": "markdown",
   "metadata": {},
   "source": [
    "**20**: Create a list B with the same size of A, where each element is True if the associated value in list A is greater than 700, else is False."
   ]
  },
  {
   "cell_type": "code",
   "execution_count": null,
   "metadata": {},
   "outputs": [],
   "source": []
  },
  {
   "cell_type": "markdown",
   "metadata": {},
   "source": [
    "**21**: Create a list L that contains the Logarithm of base 10 of each value in A. <br>\n",
    "\n",
    "*Note: You should use the module math to solve this exercise.*"
   ]
  },
  {
   "cell_type": "code",
   "execution_count": null,
   "metadata": {},
   "outputs": [],
   "source": []
  },
  {
   "cell_type": "markdown",
   "metadata": {},
   "source": [
    "**22**: How many numbers in A are greater than 1000? <br>\n",
    "\n",
    "*Note: You should use the function filter().*"
   ]
  },
  {
   "cell_type": "code",
   "execution_count": null,
   "metadata": {},
   "outputs": [],
   "source": []
  },
  {
   "cell_type": "markdown",
   "metadata": {},
   "source": [
    "**23** Use the function isPrime, that you declared in 17.3, to identify which numbers from A are prime. Note that depending on your implementation of isPrime this task can take more or less time. Use filter to achieve this task."
   ]
  },
  {
   "cell_type": "code",
   "execution_count": null,
   "metadata": {},
   "outputs": [],
   "source": []
  },
  {
   "cell_type": "markdown",
   "metadata": {},
   "source": [
    "### Congratulations, it is done!"
   ]
  },
  {
   "cell_type": "markdown",
   "metadata": {},
   "source": [
    "![LEO_GOOD_JOB](https://www.idlememe.com/wp-content/uploads/2022/01/good-job-meme-idlememe-3.jpg)"
   ]
  },
  {
   "cell_type": "code",
   "execution_count": null,
   "metadata": {},
   "outputs": [],
   "source": []
  }
 ],
 "metadata": {
  "kernelspec": {
   "display_name": "Python 3",
   "language": "python",
   "name": "python3"
  },
  "language_info": {
   "codemirror_mode": {
    "name": "ipython",
    "version": 3
   },
   "file_extension": ".py",
   "mimetype": "text/x-python",
   "name": "python",
   "nbconvert_exporter": "python",
   "pygments_lexer": "ipython3",
   "version": "3.8.3"
  }
 },
 "nbformat": 4,
 "nbformat_minor": 4
}
